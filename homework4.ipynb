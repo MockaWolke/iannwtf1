{
  "nbformat": 4,
  "nbformat_minor": 5,
  "metadata": {
    "kernelspec": {
      "display_name": "Python 3.8 (tensorflow)",
      "language": "python",
      "name": "gpu"
    },
    "language_info": {
      "codemirror_mode": {
        "name": "ipython",
        "version": 3
      },
      "file_extension": ".py",
      "mimetype": "text/x-python",
      "name": "python",
      "nbconvert_exporter": "python",
      "pygments_lexer": "ipython3",
      "version": "3.7.11"
    },
    "colab": {
      "name": "homework4.ipynb",
      "provenance": [],
      "collapsed_sections": []
    },
    "accelerator": "GPU"
  },
  "cells": [
    {
      "cell_type": "code",
      "metadata": {
        "id": "3cb71862"
      },
      "source": [
        "import numpy as np\n",
        "import pandas as pd\n",
        "import tensorflow as tf\n",
        "import tensorflow_datasets as tfds\n",
        "import matplotlib.pyplot as plt"
      ],
      "id": "3cb71862",
      "execution_count": 1,
      "outputs": []
    },
    {
      "cell_type": "code",
      "metadata": {
        "id": "U1NaAhvmIoBZ"
      },
      "source": [
        "class Dense_Layer(tf.keras.layers.Layer):\n",
        "    \"\"\"DenseLayer represents a Layer in our Network, inherits from keras.layer.Layer.\"\"\"\n",
        "    \n",
        "    \n",
        "    def __init__(self, units=256, activation=tf.nn.sigmoid):\n",
        "        \"\"\"\n",
        "        Constructor, calls super Constructor, initializes layer with 256 units and activation function sigmoid.\n",
        "        ## Params\n",
        "            - units = units in hidden layer (standard=256)\n",
        "            - activation = activation function (standard=sigmoid)\n",
        "        \"\"\"\n",
        "        super(Dense_Layer, self).__init__()\n",
        "        self.units = units\n",
        "        self.activation = activation\n",
        "    \n",
        "    \n",
        "    def build(self, input_shape): \n",
        "        \"\"\"\n",
        "        Sets the weights of our network to random, sets an input shape and makes weights trainable.\n",
        "        ## Params\n",
        "            - input_shape = input shape for network\n",
        "        \"\"\"\n",
        "        self.w = self.add_weight(shape=(input_shape[-1], self.units),\n",
        "                                 initializer='random_normal',\n",
        "                                 trainable=True)\n",
        "        self.b = self.add_weight(shape=(self.units,),\n",
        "                                 initializer='random_normal',\n",
        "                                 trainable=True)\n",
        "  \n",
        "\n",
        "    def call(self, inputs):\n",
        "        \"\"\"\n",
        "        Update weights/biases of each neuron\n",
        "        ## Params\n",
        "            - inputs = inputs for neurons\n",
        "        \"\"\"\n",
        "        x = tf.matmul(inputs, self.w) + self.b\n",
        "        x = self.activation(x)\n",
        "        return x\n",
        "    \n",
        "class MyModel(tf.keras.Model):\n",
        "    \"\"\"MyModel represents a Tensorflow Model, inherits from keras.Model.\"\"\"\n",
        "    \n",
        "    \n",
        "    def __init__(self):\n",
        "        \"\"\"Constructor, calls super Constructor, initializes 2 hidden layers and an output layer.\"\"\"\n",
        "        super(MyModel, self).__init__()\n",
        "        self.hidden1 = Dense_Layer(5) # We only need 20 neurons\n",
        "        self.hidden2 = Dense_Layer(5)\n",
        "        self.out = Dense_Layer(1) # Output layer uses sigmoid as well\n",
        "\n",
        "        \n",
        "    @tf.function\n",
        "    def call(self, inputs):\n",
        "        \"\"\"\n",
        "        Update weights/biases of each layer (calls call of each neuron).\n",
        "        ## Params\n",
        "            - inputs = inputs for network\n",
        "        \"\"\"\n",
        "        x = self.hidden1(inputs)\n",
        "        x = self.hidden2(x)\n",
        "        x = self.out(x)\n",
        "        return x"
      ],
      "id": "U1NaAhvmIoBZ",
      "execution_count": 8,
      "outputs": []
    },
    {
      "cell_type": "code",
      "metadata": {
        "id": "4NoNV3CLI0ol"
      },
      "source": [
        "def train_step(model, input, target, loss_function, optimizer):\n",
        "    \"\"\"\n",
        "    Function for model training\n",
        "    ## Params\n",
        "        - model = instance of MyModel class\n",
        "        - input = input for model \n",
        "        - target = targets\n",
        "        - loss_function = loss function\n",
        "        - optimizer = tensorflow optimizer\n",
        "    \"\"\"\n",
        "    with tf.GradientTape() as tape:\n",
        "        prediction = model(input) # Make binary to enable target-comparison tf.map_fn(lambda x: 1. if x > 0.5 else 0., model(input))\n",
        "        loss = loss_function(target, prediction)\n",
        "        gradients = tape.gradient(loss, model.trainable_variables)\n",
        "    optimizer.apply_gradients(zip(gradients, model.trainable_variables))\n",
        "    return loss\n",
        "\n",
        "def test(model, test_data, loss_function):\n",
        "    \"\"\"\n",
        "    Function for model testing \n",
        "    ## Params\n",
        "        - model = instance of MyModel class\n",
        "        - test_data = data for testing\n",
        "        - loss_function = loss function\n",
        "    \"\"\"\n",
        "    # we use numpy array here to speed things up\n",
        "    test_accuracy_aggregator = np.empty(0)\n",
        "    test_loss_aggregator = np.empty(0)\n",
        "\n",
        "    for (input, target) in test_data:\n",
        "        prediction = model(input)\n",
        "        sample_test_loss = loss_function(target, prediction)\n",
        "        sample_test_accuracy = target == np.round(prediction,0)\n",
        "        sample_test_accuracy = np.mean(sample_test_accuracy)\n",
        "        test_loss_aggregator = np.append(test_loss_aggregator, sample_test_loss.numpy())\n",
        "        test_accuracy_aggregator = np.append(test_accuracy_aggregator, np.mean(sample_test_accuracy))\n",
        "\n",
        "    test_loss = tf.reduce_mean(test_loss_aggregator)\n",
        "    test_accuracy = tf.reduce_mean(test_accuracy_aggregator)\n",
        "\n",
        "    return test_loss, test_accuracy"
      ],
      "id": "4NoNV3CLI0ol",
      "execution_count": 3,
      "outputs": []
    },
    {
      "cell_type": "code",
      "metadata": {
        "id": "d4b5aCTcVzS_"
      },
      "source": [
        "def make_binary(target, median):\n",
        "    if target > median:\n",
        "        return tf.constant(1, dtype=tf.float64)\n",
        "    return tf.constant(0, dtype=tf.float64)"
      ],
      "id": "d4b5aCTcVzS_",
      "execution_count": 4,
      "outputs": []
    },
    {
      "cell_type": "code",
      "metadata": {
        "id": "83e4825f"
      },
      "source": [
        "def preprocessing_pipeline(ds, split_fracs = (0.7,0.15,0.15), batch_size = 8, prefetch_size = tf.data.AUTOTUNE, normalize = False):\n",
        "\n",
        "    # compute target median\n",
        "    target_median = np.median( ds.loc[ :, \"quality\" ]) \n",
        "\n",
        "    # For optional normalization\n",
        "    max_vals = ds.max()\n",
        "    min_vals = ds.min()\n",
        "\n",
        "    # split the dataset\n",
        "    train_ds =      ds.sample(frac=split_fracs[0], replace = False) # disallow rows to be sampled multiple times\n",
        "    validation_ds = ds.sample(frac=split_fracs[1], replace = False)\n",
        "    test_ds =       ds.sample(frac=split_fracs[2], replace = False)\n",
        "\n",
        "    # separate values and targets\n",
        "    train_vals, train_targets =             ( train_ds.drop(        columns=\"quality\" ).values, train_ds.loc[ :, 'quality' ].values )\n",
        "    validation_vals, validation_targets =   ( validation_ds.drop(   columns=\"quality\" ).values, validation_ds.loc[ :, 'quality' ].values )\n",
        "    test_vals, test_targets =               ( test_ds.drop(         columns=\"quality\" ).values, test_ds.loc[ :, 'quality' ].values )\n",
        "\n",
        "    # create TF datasets\n",
        "    train_ds = tf.data.Dataset.from_tensor_slices(      ( train_vals, train_targets ) )\n",
        "    validation_ds = tf.data.Dataset.from_tensor_slices( ( validation_vals, validation_targets ) )\n",
        "    test_ds = tf.data.Dataset.from_tensor_slices(       ( test_vals, test_targets ) )\n",
        "\n",
        "    # Make targets binary\n",
        "    if normalize == False:\n",
        "        train_ds = train_ds.map(            lambda val, target: (val, make_binary(target, target_median)) )\n",
        "        validation_ds = validation_ds.map(  lambda val, target: (val, make_binary(target, target_median)) )\n",
        "        test_ds = test_ds.map(              lambda val, target: (val, make_binary(target, target_median)) )\n",
        "    else: # Also normalize values if param is set true\n",
        "        train_ds = train_ds.map(            lambda val, target: ( ( val - min_vals ) * 2 / max_vals - 1, make_binary(target, target_median) ) )\n",
        "        validation_ds = validation_ds.map(  lambda val, target: ( ( val - min_vals ) * 2 / max_vals - 1, make_binary(target, target_median) ) )\n",
        "        test_ds = test_ds.map(              lambda val, target: ( ( val - min_vals ) * 2 / max_vals - 1, make_binary(target, target_median) ) )\n",
        "\n",
        "    # Batch and Prefetch the splits\n",
        "    train_ds =      train_ds.batch( batch_size ).prefetch( prefetch_size )\n",
        "    validation_ds = validation_ds.batch( batch_size ).prefetch( prefetch_size )\n",
        "    test_ds =       test_ds.batch( batch_size ).prefetch( prefetch_size )\n",
        "\n",
        "    return train_ds, validation_ds, test_ds"
      ],
      "id": "83e4825f",
      "execution_count": 5,
      "outputs": []
    },
    {
      "cell_type": "code",
      "metadata": {
        "id": "4e701a08",
        "colab": {
          "base_uri": "https://localhost:8080/"
        },
        "outputId": "2220fab6-dafb-4dd4-eace-c620265385bb"
      },
      "source": [
        "tf.keras.backend.clear_session()\n",
        "\n",
        "# Load DS\n",
        "data_set=pd.read_csv(\"https://archive.ics.uci.edu/ml/machine-learning-databases/wine-quality/winequality-red.csv\", delimiter=\";\")\n",
        "\n",
        "# Preprocess\n",
        "train_ds, validation_ds, test_ds = preprocessing_pipeline(data_set)\n",
        "\n",
        "# define hyperparams\n",
        "learning_rate = tf.constant(0.1, dtype=tf.float64)\n",
        "num_epochs = 10\n",
        "model = MyModel()\n",
        "loss_func = tf.keras.losses.BinaryCrossentropy()\n",
        "optimizer = tf.optimizers.Adam(learning_rate)\n",
        "\n",
        "# arrays for later visualization\n",
        "# we use numpy arrays in order to speed things up\n",
        "train_losses = np.empty(0)\n",
        "validation_losses = np.empty(0)\n",
        "validation_accuracies = np.empty(0)\n",
        "test_losses = np.empty(0)\n",
        "test_accuracies = np.empty(0)\n",
        "\n",
        "# initial test before training\n",
        "validation_loss, validation_acc = test(model, validation_ds, loss_func)\n",
        "validation_losses = np.append(validation_losses, validation_loss)\n",
        "validation_accuracies = np.append(validation_accuracies, validation_acc)\n",
        "\n",
        "# model performance before training\n",
        "train_loss, _ = test(model, train_ds, loss_func)\n",
        "train_losses = np.append(train_losses, train_loss)\n",
        "\n",
        "# training of our model\n",
        "for epoch in range(num_epochs):\n",
        "    print(f'Epoch {str(epoch)} starting with accuracy {validation_accuracies[-1]}')\n",
        "\n",
        "    epoch_loss_agg = np.empty(0)\n",
        "    for input, target in train_ds:\n",
        "        train_loss = train_step(model, input, target, loss_func, optimizer)\n",
        "        epoch_loss_agg = np.append(epoch_loss_agg, train_loss)\n",
        "\n",
        "    train_losses = np.append(train_losses, tf.reduce_mean(epoch_loss_agg))\n",
        "\n",
        "    validation_loss, validation_acc = test(model, validation_ds, loss_func)\n",
        "    validation_losses = np.append(validation_losses, validation_loss)\n",
        "    validation_accuracies = np.append(validation_accuracies, validation_acc)"
      ],
      "id": "4e701a08",
      "execution_count": 9,
      "outputs": [
        {
          "output_type": "stream",
          "name": "stdout",
          "text": [
            "Epoch 0 starting with accuracy 0.14583333333333334\n",
            "Epoch 1 starting with accuracy 0.8541666666666666\n",
            "Epoch 2 starting with accuracy 0.8541666666666666\n",
            "Epoch 3 starting with accuracy 0.8541666666666666\n",
            "Epoch 4 starting with accuracy 0.8541666666666666\n",
            "Epoch 5 starting with accuracy 0.8541666666666666\n",
            "Epoch 6 starting with accuracy 0.8541666666666666\n",
            "Epoch 7 starting with accuracy 0.8541666666666666\n",
            "Epoch 8 starting with accuracy 0.8541666666666666\n",
            "Epoch 9 starting with accuracy 0.8541666666666666\n"
          ]
        }
      ]
    },
    {
      "cell_type": "code",
      "metadata": {
        "colab": {
          "base_uri": "https://localhost:8080/",
          "height": 483
        },
        "id": "BG700LPW278b",
        "outputId": "fc53ea1c-9dd6-4002-b918-5d9a1ea0d8df"
      },
      "source": [
        "plt.figure(figsize=(18,8))\n",
        "plt.plot(range(num_epochs+1),validation_losses,label=\"Validation Losses\")\n",
        "plt.plot(range(num_epochs+1),validation_losses, label=\"Train losses\")\n",
        "plt.plot(range(num_epochs+1),validation_accuracies, label = \"Validation accuracy\")\n",
        "plt.legend()\n",
        "plt.show()"
      ],
      "id": "BG700LPW278b",
      "execution_count": 7,
      "outputs": [
        {
          "output_type": "display_data",
          "data": {
            "image/png": "[encoded data removed]",
            "text/plain": [
              "<Figure size 1296x576 with 1 Axes>"
            ]
          },
          "metadata": {
            "needs_background": "light"
          }
        }
      ]
    }
  ]
}
{
 "cells": [
  {
   "cell_type": "code",
   "execution_count": 1,
   "id": "68a881f0",
   "metadata": {},
   "outputs": [],
   "source": [
    "import numpy as np\n",
    "import matplotlib.pyplot as plt\n",
    "\n",
    "def random_data(datatype =\"xor\"):\n",
    "    data=[[0,0],[1,0],[0,1],[1,1]]\n",
    "    if datatype==\"xor\":\n",
    "        return (np.array(data),np.array([int(a[0] ^ a[1]) for a in data]) )\n",
    "    elif datatype==\"and\":\n",
    "        return (np.array(data),np.array([int(a[0] and a[1]) for a in data]) )\n",
    "    elif datatype==\"or\":\n",
    "        return (np.array(data),np.array([int(a[0] or a[1]) for a in data]) )\n",
    "    elif datatype==\"nand\":\n",
    "        return (np.array(data),1-np.array([int(a[0] and a[1]) for a in data]))\n",
    "    elif datatype==\"nor\":\n",
    "        return (np.array(data),1-np.array([int(a[0] or a[1]) for a in data]))\n",
    "    \n",
    "    \n",
    "def sigmoid(x):\n",
    "    return 1/(1+np.exp(-x))\n",
    "    \n",
    "def sigmoidprime(x):\n",
    "    return np.exp(x)/((np.exp(x)+1)**2)\n",
    "\n",
    "def squared_error(x,y):\n",
    "    return (x-y)**2"
   ]
  },
  {
   "cell_type": "code",
   "execution_count": 2,
   "id": "5b53f574",
   "metadata": {},
   "outputs": [],
   "source": [
    "class Our_Mlp():\n",
    "    def __init__(self,number_of_h_ls=1):\n",
    "        \n",
    "        self.n_h_ls=number_of_h_ls\n",
    "        self.h_ls_values = np.zeros((4,number_of_h_ls))\n",
    "        self.h_ls_weights = np.random.normal(-5,5,(4,number_of_h_ls,4))\n",
    "        self.h_ls_weights[:,0,2:4]=np.nan # first layer has only two inputs -> set other weights to nan\n",
    "        self.h_ls_alpha =  np.ones((4,number_of_h_ls)) # we set the learning_rate to one\n",
    "        self.h_ls_biases =  np.random.normal(-5,5,(4,number_of_h_ls))\n",
    "        \n",
    "        \n",
    "        # We will store the drives of the perceptrons for the backprob\n",
    "        \n",
    "        self.h_ls_drives = np.zeros((4,number_of_h_ls))\n",
    "        \n",
    "        self.h_ls_deltas  = np.zeros((4,number_of_h_ls))\n",
    "        \n",
    "        self.input =1\n",
    "        \n",
    "        \n",
    "        # No we define the value, weights, bias, learning rate of our output neuron\n",
    "        \n",
    "        self.o_v=0\n",
    "        self.o_w=np.random.normal(-5,5,4)\n",
    "        self.o_b=float(np.random.normal(-5,5,1))\n",
    "        self.o_alpha=1\n",
    "        self.o_delta = 0\n",
    "        self.o_drive = 0\n",
    "        \n",
    "        \n",
    "    def forward_step(self,input_data):\n",
    "        \"\"\"\n",
    "        input_data is supposed to an 1d numpy.array with shape=(2)\n",
    "        \"\"\"\n",
    "        \n",
    "        self.input = input_data\n",
    "        \n",
    "        # So now we have to calculate the input for the perceptrons of the first hidden layer which get 2 inputs each\n",
    "        for y in range(0,4):\n",
    "            \n",
    "            self.h_ls_drives[y,0]=np.dot(self.h_ls_weights[y,0,0:2],input_data) + self.h_ls_biases[y,0]\n",
    "\n",
    "            self.h_ls_values[y,0]=sigmoid(self.h_ls_drives[y,0])\n",
    "            \n",
    "        # Calculate the next hidden layers\n",
    "            \n",
    "        for x in range(1,self.n_h_ls):\n",
    "            for y in range(0,4):\n",
    "                self.h_ls_drives[y,x]=np.dot(self.h_ls_weights[y,x,:],self.h_ls_values[:,x-1]) + self.h_ls_biases[y,x]\n",
    "                self.h_ls_values[y,x]=sigmoid(self.h_ls_drives[y,x])\n",
    "        \n",
    "        # Last layer to output neuron\n",
    "        self.o_drive= np.dot(self.o_w,self.h_ls_values[:,-1]) + self.o_b\n",
    "        \n",
    "        self.o_v= sigmoid(self.o_drive)\n",
    "        \n",
    "        # let's return the output\n",
    "        \n",
    "        return self.o_v\n",
    "    \n",
    "    \n",
    "    \n",
    "    def backprop_step(self,solution):\n",
    "        \n",
    "        self.o_delta = 2*(self.o_v-solution)* sigmoidprime(self.o_drive)\n",
    "        \n",
    "        # update the weitghs\n",
    "        \n",
    "        self.o_w -= self.o_alpha* self.h_ls_values[:,-1] * self.o_delta\n",
    "        \n",
    "        # update the bias\n",
    "        \n",
    "        self.o_b -=  self.o_alpha * self.o_delta\n",
    "        \n",
    "        \n",
    "        for x in range(self.n_h_ls-1,-1,-1):\n",
    "            for y in range(0,4):\n",
    "                if x == self.n_h_ls-1: # last layer\n",
    "                    self.h_ls_deltas[y,x] = sigmoidprime(self.h_ls_drives[y,x]) * self.o_w[y] * self.o_delta\n",
    "                else:\n",
    "                    self.h_ls_deltas[y,x] = np.dot(self.h_ls_deltas[:,x+1],self.h_ls_weights[:,x+1,y]) * sigmoidprime(self.h_ls_drives[y,x])\n",
    "                if x == 0:\n",
    "                    self.h_ls_weights[y,x,:2]-= self.input * self.h_ls_deltas[y,x] * self.h_ls_alpha[y,x]\n",
    "                else:\n",
    "                    self.h_ls_weights[y,x]-= self.h_ls_values[:,x-1]  * self.h_ls_alpha[y,x] * self.h_ls_deltas[y,-x]\n",
    "                \n",
    "                self.h_ls_biases[y,x]-= self.h_ls_alpha[y,x] * self.h_ls_deltas[y,x]\n",
    "                \n",
    "\n",
    "    def __str__(self):\n",
    "        text = f\"\"\"This is a neuronal network with {self.n_h_ls} hidden layers.\n",
    "The values are:\n",
    "{self.h_ls_values}\n",
    "\n",
    "{ self.o_v }\n",
    "\n",
    "The weights are:\n",
    "{self.h_ls_weights}\n",
    "\n",
    "{ self.o_w }\n",
    "\n",
    "The biases are:\n",
    "\n",
    "{self.h_ls_biases}\n",
    "\n",
    "{self.o_b}\n",
    "\n",
    "The deltas are:\n",
    "{self.h_ls_deltas}\n",
    "\n",
    "{ self.o_delta }\"\"\"\n",
    "        return text\n",
    "        \n",
    "        \n",
    "        "
   ]
  },
  {
   "cell_type": "code",
   "execution_count": 3,
   "id": "b545b540-70c8-4520-93e9-4729e90e3331",
   "metadata": {},
   "outputs": [
    {
     "data": {
      "text/plain": [
       "(array([[0, 0],\n",
       "        [1, 0],\n",
       "        [0, 1],\n",
       "        [1, 1]]),\n",
       " array([0, 1, 1, 0]))"
      ]
     },
     "execution_count": 3,
     "metadata": {},
     "output_type": "execute_result"
    }
   ],
   "source": [
    "data = random_data()\n",
    "data"
   ]
  },
  {
   "cell_type": "code",
   "execution_count": 4,
   "id": "a4d255e2",
   "metadata": {},
   "outputs": [],
   "source": [
    "a=Our_Mlp(3)"
   ]
  },
  {
   "cell_type": "code",
   "execution_count": 5,
   "id": "ab603996-5938-473e-b256-86ec87644d79",
   "metadata": {},
   "outputs": [],
   "source": [
    "def tick(MLP,forward_step_func,data):\n",
    "    input_values, solution = data\n",
    "    \n",
    "    assert(input_values.shape[0]==solution.size)\n",
    "    \n",
    "    accuracy_of_loss = 0\n",
    "    \n",
    "    for i, input_value in enumerate(input_values):\n",
    "        accuracy_of_loss+= abs(MLP.forward_step(input_value)-solution[i]) < 0.5\n",
    "        MLP.backprop_step(solution[i])\n",
    "        \n",
    "    return accuracy_of_loss/4"
   ]
  },
  {
   "cell_type": "code",
   "execution_count": 6,
   "id": "11fd83d5-48fa-4847-a407-949af8736bc4",
   "metadata": {},
   "outputs": [
    {
     "name": "stdout",
     "output_type": "stream",
     "text": [
      "This is a neuronal network with 3 hidden layers.\n",
      "The values are:\n",
      "[[4.64576635e-05 8.79494991e-03 2.87390392e-06]\n",
      " [4.00172948e-06 7.99433598e-04 3.97147967e-05]\n",
      " [6.56671383e-01 7.77309597e-08 2.06115145e-03]\n",
      " [6.52523579e-04 9.37758582e-01 9.81175367e-01]]\n",
      "\n",
      "0.0002720007375143581\n",
      "\n",
      "The weights are:\n",
      "[[[ -0.37402445  -3.8322554           nan          nan]\n",
      "  [-10.44320926 -10.9182782   -7.2524612   -7.3729628 ]\n",
      "  [ -0.40356235  -0.41407262  -1.81481332 -12.1159066 ]]\n",
      "\n",
      " [[ -4.7598551   -4.79541726          nan          nan]\n",
      "  [-15.34663225   6.01633343  -5.91617006 -11.36270816]\n",
      "  [ -8.7497935   -9.02724566 -13.00736821  -5.65654483]]\n",
      "\n",
      " [[  0.17665599   2.8464878           nan          nan]\n",
      "  [ -9.73975263 -13.59250231 -11.21898179   4.50478472]\n",
      "  [  0.25137524  -5.11100686   0.94677692   4.34150068]]\n",
      "\n",
      " [[-14.2080645    7.63443148          nan          nan]\n",
      "  [-13.45391352 -10.398238     6.24671101  -1.61667378]\n",
      "  [ -3.32160413 -11.33847763 -11.15458851   2.778769  ]]]\n",
      "\n",
      "[-10.8068298   -0.16451355  -6.09670437  -2.98898552]\n",
      "\n",
      "The biases are:\n",
      "\n",
      "[[ -5.77064282   0.04307987  -1.39416046]\n",
      " [ -2.87350755  -3.23772443  -4.74510186]\n",
      " [ -2.37464813  -9.00526044 -10.25183172]\n",
      " [ -0.76037753  -1.3878429    1.38601816]]\n",
      "\n",
      "-5.264111245583438\n",
      "\n",
      "The deltas are:\n",
      "[[ 9.48494538e-13  2.32504319e-10 -4.59432086e-12]\n",
      " [ 6.63323367e-14  8.15492249e-11 -9.66470897e-13]\n",
      " [-3.01140759e-09  6.94613472e-15 -1.85507292e-09]\n",
      " [ 1.66118920e-13 -1.79107244e-09 -8.16674458e-09]]\n",
      "\n",
      "1.47928554793323e-07\n"
     ]
    }
   ],
   "source": [
    "tick(a,data)\n",
    "print(a)"
   ]
  },
  {
   "cell_type": "code",
   "execution_count": 7,
   "id": "774fef16-5f71-4f95-b534-37caa5b4a4d9",
   "metadata": {},
   "outputs": [],
   "source": [
    "erg=[]\n",
    "weights_of_first_neuron = [[],[],[],[]]\n",
    "\n",
    "x_axes= np.linspace(0,10000,num=20001)\n",
    "for i in range(0,len(x_axes)):\n",
    "    erg.append(tick(a,data))\n",
    "    if i % 100 == 0:\n",
    "        for z in range(0,4):\n",
    "            weights_of_first_neuron[z].append(a.h_ls_weights[0,1,z])\n",
    "    "
   ]
  },
  {
   "cell_type": "code",
   "execution_count": 8,
   "id": "df49a8a3-76e9-4b9f-8898-b38489068340",
   "metadata": {},
   "outputs": [
    {
     "data": {
      "text/plain": [
       "[<matplotlib.lines.Line2D at 0x7f0aa68f3880>]"
      ]
     },
     "execution_count": 8,
     "metadata": {},
     "output_type": "execute_result"
    },
    {
     "data": {
      "image/png": "[encoded data removed]",
      "text/plain": [
       "<Figure size 1332x756 with 2 Axes>"
      ]
     },
     "metadata": {
      "needs_background": "light"
     },
     "output_type": "display_data"
    }
   ],
   "source": [
    "fig, ax = plt.subplots(1,2)\n",
    "fig.set_size_inches(18.5, 10.5)\n",
    "ax[0].plot(x_axes,erg)\n",
    "\n",
    "ax[1].plot(range(0,len(weights_of_first_neuron[0])) , weights_of_first_neuron[0])\n",
    "ax[1].plot(range(0,len(weights_of_first_neuron[0])) , weights_of_first_neuron[1])\n",
    "ax[1].plot(range(0,len(weights_of_first_neuron[0])) , weights_of_first_neuron[2])\n",
    "ax[1].plot(range(0,len(weights_of_first_neuron[0])) , weights_of_first_neuron[3])"
   ]
  },
  {
   "cell_type": "code",
   "execution_count": 9,
   "id": "0b537ea6-83bb-4af3-9082-40e0cb56bc5c",
   "metadata": {
    "scrolled": true
   },
   "outputs": [
    {
     "name": "stdout",
     "output_type": "stream",
     "text": [
      "This is a neuronal network with 3 hidden layers.\n",
      "The values are:\n",
      "[[3.58104696e-05 1.44395815e-07 6.35806885e-05]\n",
      " [7.87436120e-05 1.00233385e-02 8.20994063e-05]\n",
      " [8.40784871e-01 1.25925854e-08 3.25513880e-03]\n",
      " [1.45284927e-02 9.99996000e-01 9.99830050e-01]]\n",
      "\n",
      "0.005377411412370689\n",
      "\n",
      "The weights are:\n",
      "[[[ -0.54763865  -3.84766225          nan          nan]\n",
      "  [-10.38291103  -3.40316472 -21.8711869   -8.92465263]\n",
      "  [ -0.49797932  -0.42002903  -1.81479037 -11.21042582]]\n",
      "\n",
      " [[ -4.68823297  -5.56400466          nan          nan]\n",
      "  [-15.34659791   6.02064772  -5.92341851 -11.36353465]\n",
      "  [ -8.75938342  -9.02984774 -13.00734686  -4.57418195]]\n",
      "\n",
      " [[ -1.46565759   5.72960147          nan          nan]\n",
      "  [ -9.7397919  -13.59180388 -11.00089845   4.48207881]\n",
      "  [  0.24953086  -5.11117144   0.94677682   4.34159558]]\n",
      "\n",
      " [[-14.20762747   7.61466456          nan          nan]\n",
      "  [-13.45756495 -10.22546624  -1.78403962 -12.89656216]\n",
      "  [ -5.37250041 -11.79208605 -11.15466782  18.90533813]]]\n",
      "\n",
      "[-14.02846389  -0.17813385  -6.1356138  -11.46759896]\n",
      "\n",
      "The biases are:\n",
      "\n",
      "[[ -5.84193355   2.76855719   1.55145403]\n",
      " [  0.80300298   0.55272596  -4.74282337]\n",
      " [ -2.59986419  -9.00446665 -10.01460603]\n",
      " [  2.37595446  14.11781494 -10.10711244]]\n",
      "\n",
      "6.266257601526699\n",
      "\n",
      "The deltas are:\n",
      "[[-3.92701542e-11  5.04467045e-14 -5.13029779e-08]\n",
      " [ 3.39068491e-11  7.14816560e-08 -8.41173657e-10]\n",
      " [-5.66747676e-08  3.40224063e-15 -1.14510781e-06]\n",
      " [-1.16250081e-08 -2.60477353e-11 -1.12087070e-07]]\n",
      "\n",
      "5.7522114586217037e-05\n"
     ]
    }
   ],
   "source": [
    "print(a)"
   ]
  },
  {
   "cell_type": "code",
   "execution_count": 10,
   "id": "139a98cd",
   "metadata": {},
   "outputs": [
    {
     "data": {
      "text/plain": [
       "(array([[0, 0],\n",
       "        [1, 0],\n",
       "        [0, 1],\n",
       "        [1, 1]]),\n",
       " array([0, 1, 1, 0]))"
      ]
     },
     "execution_count": 10,
     "metadata": {},
     "output_type": "execute_result"
    }
   ],
   "source": [
    "random_data()"
   ]
  },
  {
   "cell_type": "code",
   "execution_count": 11,
   "id": "ae1f116f",
   "metadata": {},
   "outputs": [
    {
     "data": {
      "text/plain": [
       "0.005376794875092366"
      ]
     },
     "execution_count": 11,
     "metadata": {},
     "output_type": "execute_result"
    }
   ],
   "source": [
    "a.forward_step([1,1])"
   ]
  },
  {
   "cell_type": "code",
   "execution_count": 12,
   "id": "fcb07bc6",
   "metadata": {},
   "outputs": [
    {
     "data": {
      "text/plain": [
       "0.9973985484987148"
      ]
     },
     "execution_count": 12,
     "metadata": {},
     "output_type": "execute_result"
    }
   ],
   "source": [
    "a.forward_step([1,0])"
   ]
  },
  {
   "cell_type": "code",
   "execution_count": 13,
   "id": "52062850",
   "metadata": {
    "scrolled": true
   },
   "outputs": [
    {
     "data": {
      "text/plain": [
       "0.9916554212510436"
      ]
     },
     "execution_count": 13,
     "metadata": {},
     "output_type": "execute_result"
    }
   ],
   "source": [
    "a.forward_step([0,1])"
   ]
  },
  {
   "cell_type": "code",
   "execution_count": 14,
   "id": "56510142",
   "metadata": {},
   "outputs": [
    {
     "data": {
      "text/plain": [
       "0.0058349121681801255"
      ]
     },
     "execution_count": 14,
     "metadata": {},
     "output_type": "execute_result"
    }
   ],
   "source": [
    "a.forward_step([0,0])"
   ]
  }
 ],
 "metadata": {
  "interpreter": {
   "hash": "e3a927b3b55f51e837d21658ce4627d2709cdaf0fb2055e42c1e7d4f61265edd"
  },
  "kernelspec": {
   "display_name": "Python 3 (ipykernel)",
   "language": "python",
   "name": "python3"
  },
  "language_info": {
   "codemirror_mode": {
    "name": "ipython",
    "version": 3
   },
   "file_extension": ".py",
   "mimetype": "text/x-python",
   "name": "python",
   "nbconvert_exporter": "python",
   "pygments_lexer": "ipython3",
   "version": "3.9.7"
  }
 },
 "nbformat": 4,
 "nbformat_minor": 5
}

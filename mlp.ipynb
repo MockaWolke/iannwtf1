{
 "cells": [
  {
   "cell_type": "code",
   "execution_count": 1,
   "id": "68a881f0",
   "metadata": {},
   "outputs": [],
   "source": [
    "import numpy as np\n",
    "import matplotlib.pyplot as plt\n",
    "\n",
    "def random_data(datatype =\"xor\"):\n",
    "    data=[[0,0],[1,0],[0,1],[1,1]]\n",
    "    if datatype==\"xor\":\n",
    "        return (np.array(data),np.array([int(a[0] ^ a[1]) for a in data]) )\n",
    "    elif datatype==\"and\":\n",
    "        return (np.array(data),np.array([int(a[0] and a[1]) for a in data]) )\n",
    "    elif datatype==\"or\":\n",
    "        return (np.array(data),np.array([int(a[0] or a[1]) for a in data]) )\n",
    "    elif datatype==\"nand\":\n",
    "        return (np.array(data),1-np.array([int(a[0] and a[1]) for a in data]))\n",
    "    elif datatype==\"nor\":\n",
    "        return (np.array(data),1-np.array([int(a[0] or a[1]) for a in data]))\n",
    "    \n",
    "    \n",
    "def sigmoid(x):\n",
    "    return 1/(1+np.exp(-x))\n",
    "    \n",
    "def sigmoidprime(x):\n",
    "    return np.exp(x)/((np.exp(x)+1)**2)\n",
    "\n",
    "def squared_error(x,y):\n",
    "    return (x-y)**2"
   ]
  },
  {
   "cell_type": "code",
   "execution_count": 2,
   "id": "5b53f574",
   "metadata": {},
   "outputs": [],
   "source": [
    "class Our_Mlp():\n",
    "    def __init__(self,number_of_h_ls=1):\n",
    "        \n",
    "        self.n_h_ls=number_of_h_ls\n",
    "        self.h_ls_values = np.zeros((4,number_of_h_ls))\n",
    "        self.h_ls_weights = np.random.normal(-5,5,(4,number_of_h_ls,4))\n",
    "        self.h_ls_weights[:,0,2:4]=np.nan # first layer has only two inputs -> set other weights to nan\n",
    "        self.h_ls_alpha =  np.ones((4,number_of_h_ls)) # we set the learning_rate to one\n",
    "        self.h_ls_biases =  np.random.normal(-5,5,(4,number_of_h_ls))\n",
    "        \n",
    "        \n",
    "        # We will store the drives of the perceptrons for the backprob\n",
    "        \n",
    "        self.h_ls_drives = np.zeros((4,number_of_h_ls))\n",
    "        \n",
    "        self.h_ls_deltas  = np.zeros((4,number_of_h_ls))\n",
    "        \n",
    "        \n",
    "        # No we define the value, weights, bias, learning rate of our output neuron\n",
    "        \n",
    "        self.o_v=0\n",
    "        self.o_w=np.random.normal(-5,5,4)\n",
    "        self.o_b=float(np.random.normal(-5,5,1))\n",
    "        self.o_alpha=1\n",
    "        self.o_delta = 0\n",
    "        self.o_drive = 0\n",
    "        \n",
    "        \n",
    "    def forward_step(self,input_data):\n",
    "        \"\"\"\n",
    "        input_data is supposed to an 1d numpy.array with shape=(2)\n",
    "        \"\"\"\n",
    "        \n",
    "        # So now we have to calculate the input for the perceptrons of the first hidden layer which get 2 inputs each\n",
    "        for y in range(0,4):\n",
    "            \n",
    "            self.h_ls_drives[y,0]=np.dot(self.h_ls_weights[y,0,0:2],input_data) + self.h_ls_biases[y,0]\n",
    "\n",
    "            self.h_ls_values[y,0]=sigmoid(self.h_ls_drives[y,0])\n",
    "            \n",
    "        # Calculate the next hidden layers\n",
    "            \n",
    "        for x in range(1,self.n_h_ls):\n",
    "            for y in range(0,4):\n",
    "                self.h_ls_drives[y,x]=np.dot(self.h_ls_weights[y,x,:],self.h_ls_values[:,x-1]) + self.h_ls_biases[y,x]\n",
    "                self.h_ls_values[y,x]=sigmoid(self.h_ls_drives[y,x])\n",
    "        \n",
    "        # Last layer to output neuron\n",
    "        self.o_drive= np.dot(self.o_w,self.h_ls_values[:,-1]) + self.o_b\n",
    "        \n",
    "        self.o_v= sigmoid(self.o_drive)\n",
    "        \n",
    "        # let's return the output\n",
    "        \n",
    "        return self.o_v\n",
    "    \n",
    "    \n",
    "    \n",
    "    def backprop_step(self,solution):\n",
    "        \n",
    "        self.o_delta = 2*(self.o_v-solution)* sigmoidprime(self.o_drive)\n",
    "        \n",
    "        # update the weitghs\n",
    "        \n",
    "        self.o_w -= self.o_alpha* self.o_w * self.o_delta\n",
    "        \n",
    "        # update the bias\n",
    "        \n",
    "        self.o_b -=  self.o_alpha * self.o_delta\n",
    "        \n",
    "        # now for the neurons of the last hidden layer\n",
    "        for y in range(0,4):\n",
    "            self.h_ls_deltas[y,-1] = sigmoidprime(self.h_ls_drives[y,-1]) * self.o_w[y] * self.o_delta\n",
    "            self.h_ls_weights[y,-1,:] -=  self.h_ls_weights[y,-1,:]  * self.h_ls_alpha[y,-1] * self.h_ls_deltas[y,-1]\n",
    "            self.h_ls_biases[y,-1] -=  self.h_ls_alpha[y,-1] * self.h_ls_deltas[y,-1]\n",
    "            \n",
    "        # for the rest of the hidden layer\n",
    "        \n",
    "        for x in range(self.n_h_ls-2,-1,-1):\n",
    "            for y in range(0,4):\n",
    "                \n",
    "                self.h_ls_deltas[y,x] = np.dot(self.h_ls_deltas[:,x+1],self.h_ls_weights[:,x+1,y]) * sigmoidprime(self.h_ls_drives[y,x])\n",
    "                self.h_ls_weights[y,x,:] -= self.h_ls_weights[y,x,:] * self.h_ls_alpha[y,x] * self.h_ls_deltas[y,x]\n",
    "                self.h_ls_biases[y,x]-= self.h_ls_alpha[y,x] * self.h_ls_deltas[y,x]\n",
    "                \n",
    "    def __str__(self):\n",
    "        text = f\"\"\"This is a neuronal network with {self.n_h_ls} hidden layers.\n",
    "The values are:\n",
    "{self.h_ls_values}\n",
    "\n",
    "{ self.o_v }\n",
    "\n",
    "The weights are:\n",
    "{self.h_ls_weights}\n",
    "\n",
    "{ self.o_w }\n",
    "\n",
    "The biases are:\n",
    "\n",
    "{self.h_ls_biases}\n",
    "\n",
    "{self.o_b}\n",
    "\n",
    "The deltas are:\n",
    "{self.h_ls_deltas}\n",
    "\n",
    "{ self.o_delta }\"\"\"\n",
    "        return text\n",
    "        \n",
    "        \n",
    "        "
   ]
  },
  {
   "cell_type": "code",
   "execution_count": 3,
   "id": "1151c4d5",
   "metadata": {},
   "outputs": [
    {
     "name": "stdout",
     "output_type": "stream",
     "text": [
      "This is a neuronal network with 2 hidden layers.\n",
      "The values are:\n",
      "[[0. 0.]\n",
      " [0. 0.]\n",
      " [0. 0.]\n",
      " [0. 0.]]\n",
      "\n",
      "0\n",
      "\n",
      "The weights are:\n",
      "[[[-12.91094728  -1.03314306          nan          nan]\n",
      "  [ -7.78870969  -3.21795969   4.64209786  -7.07869367]]\n",
      "\n",
      " [[ -5.13025436   1.51766736          nan          nan]\n",
      "  [ -2.79773041  -7.45897045  -6.49155131  -5.87398766]]\n",
      "\n",
      " [[ -0.03649703  -9.65253198          nan          nan]\n",
      "  [-10.5947063   -3.80152139  -8.41497679  -0.81142178]]\n",
      "\n",
      " [[ -5.79357087  -6.8258              nan          nan]\n",
      "  [ -9.07628447  -9.93371717 -14.11426196  -4.19971483]]]\n",
      "\n",
      "[-12.12824406  -6.98467981   3.51023897  -2.06589874]\n",
      "\n",
      "The biases are:\n",
      "\n",
      "[[-1.96474972 -2.07411436]\n",
      " [-2.45654705  2.36004628]\n",
      " [-3.52201358 -6.2518209 ]\n",
      " [-7.60353177 -4.26862873]]\n",
      "\n",
      "-16.8631907933523\n",
      "\n",
      "The deltas are:\n",
      "[[0. 0.]\n",
      " [0. 0.]\n",
      " [0. 0.]\n",
      " [0. 0.]]\n",
      "\n",
      "0\n"
     ]
    }
   ],
   "source": [
    "a = Our_Mlp(2)\n",
    "print(a)"
   ]
  },
  {
   "cell_type": "code",
   "execution_count": 4,
   "id": "b545b540-70c8-4520-93e9-4729e90e3331",
   "metadata": {},
   "outputs": [
    {
     "data": {
      "text/plain": [
       "(array([[0, 0],\n",
       "        [1, 0],\n",
       "        [0, 1],\n",
       "        [1, 1]]),\n",
       " array([0, 1, 1, 0]))"
      ]
     },
     "execution_count": 4,
     "metadata": {},
     "output_type": "execute_result"
    }
   ],
   "source": [
    "data = random_data()\n",
    "data"
   ]
  },
  {
   "cell_type": "code",
   "execution_count": 5,
   "id": "ab603996-5938-473e-b256-86ec87644d79",
   "metadata": {},
   "outputs": [],
   "source": [
    "def tick(MLP,data):\n",
    "    input_values, solution = data\n",
    "    \n",
    "    assert(input_values.shape[0]==solution.size)\n",
    "    \n",
    "    accuracy_of_loss = 0\n",
    "    \n",
    "    for i, input_value in enumerate(input_values):\n",
    "        accuracy_of_loss+= squared_error(MLP.forward_step(input_value),solution[i]) < 0.5\n",
    "        MLP.backprop_step(solution[i])\n",
    "        \n",
    "    return accuracy_of_loss/4"
   ]
  },
  {
   "cell_type": "code",
   "execution_count": 6,
   "id": "11fd83d5-48fa-4847-a407-949af8736bc4",
   "metadata": {},
   "outputs": [
    {
     "name": "stdout",
     "output_type": "stream",
     "text": [
      "This is a neuronal network with 2 hidden layers.\n",
      "The values are:\n",
      "[[1.23275987e-07 1.10904679e-01]\n",
      " [2.30783698e-03 9.12361825e-01]\n",
      " [1.83027482e-06 1.90643713e-03]\n",
      " [1.64932018e-09 1.34985692e-02]]\n",
      "\n",
      "2.067657581491791e-11\n",
      "\n",
      "The weights are:\n",
      "[[[-12.91094729  -1.03314306          nan          nan]\n",
      "  [ -7.78870968  -3.21795969   4.64209786  -7.07869367]]\n",
      "\n",
      " [[ -5.13025438   1.51766736          nan          nan]\n",
      "  [ -2.7977304   -7.45897043  -6.49155129  -5.87398764]]\n",
      "\n",
      " [[ -0.03649703  -9.65253198          nan          nan]\n",
      "  [-10.5947063   -3.80152139  -8.41497679  -0.81142178]]\n",
      "\n",
      " [[ -5.79357087  -6.8258              nan          nan]\n",
      "  [ -9.07628447  -9.93371717 -14.11426196  -4.19971483]]]\n",
      "\n",
      "[-12.12824408  -6.98467982   3.51023898  -2.06589875]\n",
      "\n",
      "The biases are:\n",
      "\n",
      "[[-1.96474972 -2.07411437]\n",
      " [-2.45654704  2.36004628]\n",
      " [-3.52201358 -6.2518209 ]\n",
      " [-7.60353177 -4.26862873]]\n",
      "\n",
      "-16.863190791787467\n",
      "\n",
      "The deltas are:\n",
      "[[ 1.16536379e-27 -1.02254718e-21]\n",
      " [ 1.62656244e-23 -4.77522860e-22]\n",
      " [-2.49458147e-27  5.71107231e-24]\n",
      " [ 1.67198430e-29 -2.35224048e-23]]\n",
      "\n",
      "8.550415748424173e-22\n"
     ]
    }
   ],
   "source": [
    "tick(a,data)\n",
    "print(a)"
   ]
  },
  {
   "cell_type": "code",
   "execution_count": 7,
   "id": "774fef16-5f71-4f95-b534-37caa5b4a4d9",
   "metadata": {},
   "outputs": [],
   "source": [
    "erg=[]\n",
    "weights_of_first_neuron = [[],[],[],[]]\n",
    "\n",
    "x_axes= np.linspace(0,10000,num=100001)\n",
    "for i in range(0,len(x_axes)):\n",
    "    erg.append(tick(a,data))\n",
    "    if i % 100 == 0:\n",
    "        for z in range(0,4):\n",
    "            weights_of_first_neuron[z].append(a.h_ls_weights[0,1,z])\n",
    "    "
   ]
  },
  {
   "cell_type": "code",
   "execution_count": 8,
   "id": "df49a8a3-76e9-4b9f-8898-b38489068340",
   "metadata": {},
   "outputs": [
    {
     "data": {
      "text/plain": [
       "[<matplotlib.lines.Line2D at 0x7f28303e5340>]"
      ]
     },
     "execution_count": 8,
     "metadata": {},
     "output_type": "execute_result"
    },
    {
     "data": {
      "image/png": "[encoded data removed]",
      "text/plain": [
       "<Figure size 1332x756 with 2 Axes>"
      ]
     },
     "metadata": {
      "needs_background": "light"
     },
     "output_type": "display_data"
    }
   ],
   "source": [
    "fig, ax = plt.subplots(1,2)\n",
    "fig.set_size_inches(18.5, 10.5)\n",
    "ax[0].plot(x_axes,erg)\n",
    "\n",
    "ax[1].plot(range(0,len(weights_of_first_neuron[0])) , weights_of_first_neuron[0])\n",
    "ax[1].plot(range(0,len(weights_of_first_neuron[0])) , weights_of_first_neuron[1])\n",
    "ax[1].plot(range(0,len(weights_of_first_neuron[0])) , weights_of_first_neuron[2])\n",
    "ax[1].plot(range(0,len(weights_of_first_neuron[0])) , weights_of_first_neuron[3])"
   ]
  },
  {
   "cell_type": "code",
   "execution_count": 9,
   "id": "0b537ea6-83bb-4af3-9082-40e0cb56bc5c",
   "metadata": {},
   "outputs": [
    {
     "name": "stdout",
     "output_type": "stream",
     "text": [
      "This is a neuronal network with 2 hidden layers.\n",
      "The values are:\n",
      "[[1.23188237e-07 1.10899073e-01]\n",
      " [2.30518969e-03 9.12342331e-01]\n",
      " [1.83027773e-06 1.90645673e-03]\n",
      " [1.64932016e-09 1.34989161e-02]]\n",
      "\n",
      "2.0658963494609563e-11\n",
      "\n",
      "The weights are:\n",
      "[[[-12.91165754  -1.0331999           nan          nan]\n",
      "  [ -7.7881967   -3.21774775   4.64179212  -7.07822745]]\n",
      "\n",
      " [[ -5.13251319   1.51833558          nan          nan]\n",
      "  [ -2.79698033  -7.45697068  -6.48981091  -5.87241282]]\n",
      "\n",
      " [[ -0.03649703  -9.65253022          nan          nan]\n",
      "  [-10.59470879  -3.80152228  -8.41497877  -0.81142197]]\n",
      "\n",
      " [[ -5.79357088  -6.82580001          nan          nan]\n",
      "  [ -9.07628221  -9.93371469 -14.11425844  -4.19971378]]]\n",
      "\n",
      "[-12.13014406  -6.98577402   3.51078888  -2.06622238]\n",
      "\n",
      "The biases are:\n",
      "\n",
      "[[-1.96469471 -2.07418023]\n",
      " [-2.45610685  2.35977814]\n",
      " [-3.52201376 -6.25182066]\n",
      " [-7.60353177 -4.26862897]]\n",
      "\n",
      "-16.863034146810627\n",
      "\n",
      "The deltas are:\n",
      "[[ 1.16261502e-27 -1.02092065e-21]\n",
      " [ 1.62205159e-23 -4.76880242e-22]\n",
      " [-2.49013826e-27  5.70229872e-24]\n",
      " [ 1.66923675e-29 -2.34866232e-23]]\n",
      "\n",
      "8.535855453255868e-22\n"
     ]
    }
   ],
   "source": [
    "print(a)"
   ]
  }
 ],
 "metadata": {
  "kernelspec": {
   "display_name": "Python 3 (ipykernel)",
   "language": "python",
   "name": "python3"
  },
  "language_info": {
   "codemirror_mode": {
    "name": "ipython",
    "version": 3
   },
   "file_extension": ".py",
   "mimetype": "text/x-python",
   "name": "python",
   "nbconvert_exporter": "python",
   "pygments_lexer": "ipython3",
   "version": "3.9.7"
  }
 },
 "nbformat": 4,
 "nbformat_minor": 5
}

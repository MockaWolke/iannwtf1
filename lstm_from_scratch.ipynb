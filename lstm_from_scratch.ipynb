{
  "cells": [
    {
      "cell_type": "markdown",
      "metadata": {
        "id": "zEmGL8dr3O-0"
      },
      "source": [
        "# Homework 7: Recurrent neuronal networks\n"
      ],
      "id": "zEmGL8dr3O-0"
    },
    {
      "cell_type": "markdown",
      "metadata": {
        "id": "zghxs69F3ae0"
      },
      "source": [
        "## Imports \n"
      ],
      "id": "zghxs69F3ae0"
    },
    {
      "cell_type": "code",
      "execution_count": null,
      "metadata": {
        "id": "bba7a5e6-8e83-44cc-a798-8317d9d7f0ea"
      },
      "outputs": [],
      "source": [
        "import tensorflow as tf\n",
        "import numpy as np\n",
        "\n",
        "sample_size = 80000\n",
        "seq_len = 5"
      ],
      "id": "bba7a5e6-8e83-44cc-a798-8317d9d7f0ea"
    },
    {
      "cell_type": "markdown",
      "metadata": {
        "id": "0PlHdEIB6L1u"
      },
      "source": [
        "## Generator Function\n",
        "Yields a random noise signal of specified size and a target."
      ],
      "id": "0PlHdEIB6L1u"
    },
    {
      "cell_type": "code",
      "execution_count": null,
      "metadata": {
        "id": "4m_I-Kuj4qLQ"
      },
      "outputs": [],
      "source": [
        "def integration_task(seq_length=5, num_samples=10000,):\n",
        "    \"\"\"\n",
        "    Yields a num_samples times a random noise signal of size seq_length and a target.\n",
        "    ## Params\n",
        "        - seq_length = size of random noise signal\n",
        "        - num_samples = number of random noise samples\n",
        "    \"\"\"\n",
        "    for i in range(num_samples):\n",
        "        ar = np.random.normal(size=(seq_length))\n",
        "        yield (np.expand_dims(ar,-1),np.expand_dims(int(ar.sum()>0),-1))"
      ],
      "id": "4m_I-Kuj4qLQ"
    },
    {
      "cell_type": "markdown",
      "metadata": {
        "id": "uNnB4nMU7TGD"
      },
      "source": [
        "## Wrapper Generator \n",
        "Internally iterates through integration_task."
      ],
      "id": "uNnB4nMU7TGD"
    },
    {
      "cell_type": "code",
      "execution_count": null,
      "metadata": {
        "id": "6fc1e636-dcdc-4579-b55c-a637197f0ccb"
      },
      "outputs": [],
      "source": [
        "def my_integration_task():\n",
        "    \"\"\"Internally iterates through integration_task function\"\"\"\n",
        "    for i in integration_task(5, sample_size):\n",
        "        yield i"
      ],
      "id": "6fc1e636-dcdc-4579-b55c-a637197f0ccb"
    },
    {
      "cell_type": "markdown",
      "metadata": {
        "id": "ZylaLViY5CnT"
      },
      "source": [
        "## Preprocessing pipeline\n"
      ],
      "id": "ZylaLViY5CnT"
    },
    {
      "cell_type": "code",
      "execution_count": null,
      "metadata": {
        "colab": {
          "base_uri": "https://localhost:8080/"
        },
        "id": "94e1cc7a-06a9-4cad-85be-d2fc4110c538",
        "outputId": "c42e2edd-8802-4657-f971-c39d0769af2a"
      },
      "outputs": [
        {
          "name": "stdout",
          "output_type": "stream",
          "text": [
            "(8, 5, 1) <dtype: 'float32'> (8, 1) <dtype: 'int64'>\n"
          ]
        }
      ],
      "source": [
        "# Creating Tensorflow Dataset\n",
        "data = tf.data.Dataset.from_generator(my_integration_task,(tf.float32,tf.int64),(tf.TensorShape([5,1]), tf.TensorShape([1])))\n",
        "\n",
        "def pipeline(ds,ratio):\n",
        "    \"\"\"Preprocessing pipeline for Tensorflow data\"\"\"\n",
        "    # Splitting in train and test\n",
        "    train = ds.take(int(ratio*sample_size))\n",
        "    test = ds.skip(int(ratio*sample_size))\n",
        "    # Shuffle\n",
        "    train = train.shuffle(1000)\n",
        "    test = test.shuffle(1000)\n",
        "    # batch\n",
        "    train = train.batch(8)\n",
        "    test = test.batch(8)\n",
        "    #prefetch\n",
        "    train = train.prefetch(20)\n",
        "    test = test.prefetch(20)\n",
        "\n",
        "    # return preprocessed data\n",
        "    return train,test\n",
        "\n",
        "train_ds, test_ds = pipeline(data,.8) \n",
        "for a,b in train_ds.take(1):\n",
        "    print(a.shape,a.dtype,b.shape,b.dtype)"
      ],
      "id": "94e1cc7a-06a9-4cad-85be-d2fc4110c538"
    },
    {
      "cell_type": "markdown",
      "metadata": {
        "id": "yJ3AbvD43kzz"
      },
      "source": [
        "## LSTM Cell"
      ],
      "id": "yJ3AbvD43kzz"
    },
    {
      "cell_type": "code",
      "execution_count": null,
      "metadata": {
        "id": "df4efbc7-fe08-46f1-9fa8-476873a2f32c"
      },
      "outputs": [],
      "source": [
        "class LSTM_Cell(tf.keras.layers.Layer):\n",
        "    \n",
        "    def __init__(self, units, kernel_regularizer=None ):\n",
        "        super(LSTM_Cell, self).__init__()\n",
        "        \n",
        "        self.units = units\n",
        "        \n",
        "        self.forget_layer = tf.keras.layers.Dense(units, \n",
        "                                                  kernel_regularizer=kernel_regularizer, \n",
        "                                                   activation=\"sigmoid\",\n",
        "                                                  bias_initializer='ones')\n",
        "        self.input_layer = tf.keras.layers.Dense(units, \n",
        "                                                  kernel_regularizer=kernel_regularizer, \n",
        "                                                 activation=\"sigmoid\")\n",
        "\n",
        "        self.candidates_layer = tf.keras.layers.Dense(units, \n",
        "                                                 kernel_regularizer=kernel_regularizer, \n",
        "                                                 activation=\"tanh\")\n",
        "        \n",
        "        self.output_layer = tf.keras.layers.Dense(units, \n",
        "                                                 kernel_regularizer=kernel_regularizer, \n",
        "                                                 activation=\"sigmoid\")\n",
        "\n",
        "    def call(self, input_t,hidden_state, cell_state):\n",
        "\n",
        "        con_input = np.concatenate([input_t,hidden_state],axis=1)\n",
        "\n",
        "        forget_mask = self.forget_layer(con_input)\n",
        "\n",
        "        cell_after_forget = tf.math.multiply(forget_mask,hidden_state)\n",
        "        \n",
        "        input_mask = self.input_layer(con_input)\n",
        "        candidates = self.candidates_layer(con_input)\n",
        "        new_cell_state = tf.math.add(cell_after_forget,tf.math.multiply(input_mask,candidates))\n",
        "        output_mask = self.output_layer(con_input)\n",
        "        \n",
        "        new_hidden_state = np.multiply(output_mask,tf.nn.tanh(new_cell_state))\n",
        "        \n",
        "        return new_hidden_state, new_cell_state"
      ],
      "id": "df4efbc7-fe08-46f1-9fa8-476873a2f32c"
    },
    {
      "cell_type": "markdown",
      "metadata": {
        "id": "80CWt4WA3nUL"
      },
      "source": [
        "## LSTM Wrapper\n"
      ],
      "id": "80CWt4WA3nUL"
    },
    {
      "cell_type": "code",
      "execution_count": null,
      "metadata": {
        "id": "c20f4799-c788-40ab-a62e-2b406817013c"
      },
      "outputs": [],
      "source": [
        "class LSTMWrapper(tf.keras.layers.Layer):\n",
        "    \n",
        "    def __init__(self, LSTM_Cell):\n",
        "        super(LSTMWrapper, self).__init__()\n",
        "        \n",
        "        self.cell = LSTM_Cell\n",
        "\n",
        "    def call(self, data, hs, cs):\n",
        "        out = []\n",
        "        hidden_state = hs\n",
        "        cell_state = cs\n",
        "        for t in range(seq_len):\n",
        "            hidden_state, cell_state = self.cell(data[:,t,:], hidden_state,cell_state)\n",
        "            out.append(hidden_state)\n",
        "        \n",
        "        return out\n",
        "\n",
        "    def zeros(self, batch_size):\n",
        "        return tf.zeros((batch_size, self.cell.units), dtype=tf.float32)"
      ],
      "id": "c20f4799-c788-40ab-a62e-2b406817013c"
    },
    {
      "cell_type": "markdown",
      "metadata": {
        "id": "FhhnNYLW3qEU"
      },
      "source": [
        "## Model"
      ],
      "id": "FhhnNYLW3qEU"
    },
    {
      "cell_type": "code",
      "execution_count": null,
      "metadata": {
        "id": "0182759b-ad8e-48b1-8dac-4c91358788f2"
      },
      "outputs": [],
      "source": [
        "class RNN_Model(tf.keras.Model):\n",
        "\n",
        "    def __init__(self):\n",
        "        super(RNN_Model, self).__init__()\n",
        "        self.input_ly = tf.keras.layers.Dense(units=seq_len, activation='sigmoid')\n",
        "        self.LSTM =  LSTMWrapper(LSTM_Cell(2))\n",
        "        self.output_ly = tf.keras.layers.Dense(units=1, activation='sigmoid')\n",
        "\n",
        "    def call(self,data):\n",
        "        x = self.input_ly(data)\n",
        "        x= self.LSTM(x,self.LSTM.zeros(8),self.LSTM.zeros(8))\n",
        "        return [self.output_ly(val) for val in x]"
      ],
      "id": "0182759b-ad8e-48b1-8dac-4c91358788f2"
    },
    {
      "cell_type": "markdown",
      "metadata": {
        "id": "Y7jzxXhJ3r2n"
      },
      "source": [
        "## Train and Test function\n",
        "The training and test function are the same as last week. "
      ],
      "id": "Y7jzxXhJ3r2n"
    },
    {
      "cell_type": "code",
      "execution_count": null,
      "metadata": {
        "id": "2e44c93e-e889-4454-a535-8091df3ba649"
      },
      "outputs": [],
      "source": [
        "def train_step(model, input, target, loss_function, optimizer):\n",
        "    \"\"\"\n",
        "    Function for model training\n",
        "    ## Params\n",
        "        - model = instance of MyModel class\n",
        "        - input = input for model \n",
        "        - target = targets\n",
        "        - loss_function = loss function\n",
        "        - optimizer = tensorflow optimizer\n",
        "    \"\"\"\n",
        "    with tf.GradientTape() as tape:\n",
        "        prediction = model(input)[-1]\n",
        "        loss = loss_function(target, prediction)\n",
        "        gradients = tape.gradient(loss, model.trainable_variables, \n",
        "                unconnected_gradients=tf.UnconnectedGradients.ZERO)\n",
        "    optimizer.apply_gradients(zip(gradients, model.trainable_variables))\n",
        "    return loss\n",
        "\n",
        "def test(model, test_data, loss_function):\n",
        "    \"\"\"\n",
        "    Function for model testing \n",
        "    ## Params\n",
        "        - model = instance of MyModel class\n",
        "        - test_data = data for testing\n",
        "        - loss_function = loss function\n",
        "    \"\"\"\n",
        "    # we use numpy array here to speed things up\n",
        "    test_accuracy_aggregator = np.empty(0)\n",
        "    test_loss_aggregator = np.empty(0)\n",
        "\n",
        "    for (input, target) in test_data:\n",
        "        prediction = model(input)[-1]\n",
        "        sample_test_loss = loss_function(target, prediction)\n",
        "        sample_test_accuracy = target == np.round(prediction,0) # accuracy computation for binary task\n",
        "        test_loss_aggregator = np.append(test_loss_aggregator, sample_test_loss.numpy())\n",
        "        test_accuracy_aggregator = np.append(test_accuracy_aggregator, np.mean(sample_test_accuracy))\n",
        "\n",
        "    test_loss = tf.reduce_mean(test_loss_aggregator)\n",
        "    test_accuracy = tf.reduce_mean(test_accuracy_aggregator)\n",
        "\n",
        "    return test_loss, test_accuracy"
      ],
      "id": "2e44c93e-e889-4454-a535-8091df3ba649"
    },
    {
      "cell_type": "markdown",
      "metadata": {
        "id": "GAvHKdsH35Z3"
      },
      "source": [
        "## Running our Code"
      ],
      "id": "GAvHKdsH35Z3"
    },
    {
      "cell_type": "code",
      "execution_count": null,
      "metadata": {
        "colab": {
          "background_save": true,
          "base_uri": "https://localhost:8080/"
        },
        "id": "k6U523y7vbdU",
        "outputId": "e5649bf9-efbd-4ec4-bc30-b613024f839c"
      },
      "outputs": [
        {
          "name": "stdout",
          "output_type": "stream",
          "text": [
            "Epoch 0 starting with accuracy 0.40325000\n",
            "Epoch 1 starting with accuracy 0.64625000\n",
            "Epoch 2 starting with accuracy 0.64443750\n",
            "Epoch 3 starting with accuracy 0.64093750\n",
            "Epoch 4 starting with accuracy 0.64581250\n"
          ]
        }
      ],
      "source": [
        "tf.keras.backend.clear_session()\n",
        "\n",
        "# define hyperparams\n",
        "learning_rate = tf.constant(0.001, dtype=tf.float64) # A smaller learning rate prooved to be more useful\n",
        "num_epochs = 5\n",
        "model = RNN_Model()\n",
        "loss_func = tf.keras.losses.BinaryCrossentropy()\n",
        "optimizer = tf.optimizers.Adam(learning_rate)        # Adam yielded the most stable accuracies from all tested optimizers\n",
        "\n",
        "# arrays for later visualization\n",
        "# initial tests before training\n",
        "train_losses = np.empty(0)\n",
        "\n",
        "test_loss, test_acc = test(model, test_ds, loss_func)\n",
        "test_losses = np.array([test_loss])\n",
        "test_accuracies = np.array([test_acc])\n",
        "\n",
        "# model performance before training\n",
        "train_loss, _ = test(model, train_ds, loss_func)\n",
        "train_losses = np.append(train_losses, train_loss)\n",
        "\n",
        "# training of our model\n",
        "for epoch in range(num_epochs):\n",
        "    print(f'Epoch {str(epoch)} starting with accuracy {test_accuracies[-1]:.8f}')\n",
        "\n",
        "    epoch_loss_agg = np.empty(0)\n",
        "    for input, target in train_ds:\n",
        "        train_loss = train_step(model, input, target, loss_func, optimizer)\n",
        "        epoch_loss_agg = np.append(epoch_loss_agg, train_loss)\n",
        "\n",
        "    train_losses = np.append(train_losses, tf.reduce_mean(epoch_loss_agg))\n",
        "\n",
        "    test_loss, test_acc = test(model, test_ds, loss_func)\n",
        "    test_losses = np.append(test_losses, test_loss)\n",
        "    test_accuracies = np.append(test_accuracies, test_acc)"
      ],
      "id": "k6U523y7vbdU"
    },
    {
      "cell_type": "markdown",
      "metadata": {
        "id": "QK9B_ZIC3_jL"
      },
      "source": [
        "## Visualization"
      ],
      "id": "QK9B_ZIC3_jL"
    },
    {
      "cell_type": "code",
      "execution_count": null,
      "metadata": {
        "colab": {
          "background_save": true
        },
        "id": "ksseuxrB2kkp",
        "outputId": "87277d63-257b-4cfc-b74d-d1263ecf4689"
      },
      "outputs": [
        {
          "data": {
            "image/png": "[encoded data removed]",
            "text/plain": [
              "<Figure size 1296x576 with 1 Axes>"
            ]
          },
          "metadata": {},
          "output_type": "display_data"
        }
      ],
      "source": [
        "import matplotlib.pyplot  as plt\n",
        "\n",
        "#Graph\n",
        "plt.figure(figsize=(18,8))\n",
        "plt.plot(range(num_epochs+1),test_losses,label=\"Test Losses\")\n",
        "plt.plot(range(num_epochs+1),train_losses, label=\"Train losses\")\n",
        "plt.plot(range(num_epochs+1),test_accuracies, label = \"Test accuracy\")\n",
        "plt.legend()\n",
        "plt.show()"
      ],
      "id": "ksseuxrB2kkp"
    },
    {
      "cell_type": "code",
      "execution_count": null,
      "metadata": {
        "colab": {
          "background_save": true
        },
        "id": "0ivl5oZxDOIF",
        "outputId": "efc04871-15a9-484a-c1e9-f20f2a1a652b"
      },
      "outputs": [
        {
          "data": {
            "image/png": "[encoded data removed]",
            "text/plain": [
              "<Figure size 576x432 with 1 Axes>"
            ]
          },
          "metadata": {},
          "output_type": "display_data"
        }
      ],
      "source": [
        "# Barplot\n",
        "fig = plt.figure(figsize=(8, 6))\n",
        "ax = fig.add_axes([0,0,1,1])\n",
        "epochs = np.arange(6)\n",
        "label1 = ax.bar(epochs-0.3, test_losses, 0.3)\n",
        "label2 = ax.bar(epochs, train_losses, 0.3)\n",
        "label3 = ax.bar(epochs+0.3, test_accuracies, 0.3)\n",
        "plt.legend([label1, label2, label3], [\"test loss\", \"train loss\", \"accuracy\"])\n",
        "ax.set_title('Training')\n",
        "ax.set_ylabel('Loss and accuracies')\n",
        "ax.set_xlabel('Training steps')\n",
        "ax.set_xticks(np.arange(6))\n",
        "plt.show()"
      ],
      "id": "0ivl5oZxDOIF"
    }
  ],
  "metadata": {
    "accelerator": "GPU",
    "colab": {
      "collapsed_sections": [],
      "name": "mirreichts!.ipynb",
      "provenance": []
    },
    "kernelspec": {
      "display_name": "Python 3.8 (tensorflow)",
      "language": "python",
      "name": "gpu"
    },
    "language_info": {
      "codemirror_mode": {
        "name": "ipython",
        "version": 3
      },
      "file_extension": ".py",
      "mimetype": "text/x-python",
      "name": "python",
      "nbconvert_exporter": "python",
      "pygments_lexer": "ipython3",
      "version": "3.7.11"
    }
  },
  "nbformat": 4,
  "nbformat_minor": 5
}
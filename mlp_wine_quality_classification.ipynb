{
  "nbformat": 4,
  "nbformat_minor": 5,
  "metadata": {
    "kernelspec": {
      "display_name": "Python 3.8 (tensorflow)",
      "language": "python",
      "name": "gpu"
    },
    "language_info": {
      "codemirror_mode": {
        "name": "ipython",
        "version": 3
      },
      "file_extension": ".py",
      "mimetype": "text/x-python",
      "name": "python",
      "nbconvert_exporter": "python",
      "pygments_lexer": "ipython3",
      "version": "3.7.11"
    },
    "colab": {
      "name": "homework4.ipynb",
      "provenance": [],
      "collapsed_sections": []
    },
    "accelerator": "GPU"
  },
  "cells": [
    {
      "cell_type": "markdown",
      "metadata": {
        "id": "rgBKRIPNn9SF"
      },
      "source": [
        "# Optimization and Regularization\n"
      ],
      "id": "rgBKRIPNn9SF"
    },
    {
      "cell_type": "code",
      "metadata": {
        "id": "3cb71862"
      },
      "source": [
        "import numpy as np\n",
        "import pandas as pd\n",
        "import tensorflow as tf\n",
        "import matplotlib.pyplot as plt"
      ],
      "id": "3cb71862",
      "execution_count": null,
      "outputs": []
    },
    {
      "cell_type": "markdown",
      "metadata": {
        "id": "kyo66rbXtprQ"
      },
      "source": [
        "## Layer and Model\n",
        "The Layer and Model class are largely the same as last week. We additionally added a regularizer to our layers weights and have 5 neurons/layer."
      ],
      "id": "kyo66rbXtprQ"
    },
    {
      "cell_type": "code",
      "metadata": {
        "id": "U1NaAhvmIoBZ"
      },
      "source": [
        "class Dense_Layer(tf.keras.layers.Layer): # .Dropout was not effective for regularization\n",
        "    \"\"\"DenseLayer represents a Layer in our Network, inherits from keras.layer.Layer.\"\"\"\n",
        "    \n",
        "    \n",
        "    def __init__(self, units=256, activation=tf.nn.sigmoid):\n",
        "        \"\"\"\n",
        "        Constructor, calls super Constructor, initializes layer with 256 units and activation function sigmoid.\n",
        "        ## Params\n",
        "            - units = units in hidden layer (standard=256)\n",
        "            - activation = activation function (standard=sigmoid)\n",
        "        \"\"\"\n",
        "        super(Dense_Layer, self).__init__()\n",
        "        self.units = units\n",
        "        self.activation = activation\n",
        "    \n",
        "    \n",
        "    def build(self, input_shape): \n",
        "        \"\"\"\n",
        "        Sets the weights of our network to random, sets an input shape and makes weights trainable.\n",
        "        ## Params\n",
        "            - input_shape = input shape for network\n",
        "        \"\"\"\n",
        "        self.w = self.add_weight(shape=(input_shape[-1], self.units),\n",
        "                                 initializer='random_normal',\n",
        "                                 regularizer=tf.keras.regularizers.l1_l2, # avoid overfitting: apply L2 regularization penalty on the layer's weights\n",
        "                                 trainable=True)\n",
        "        self.b = self.add_weight(shape=(self.units,),\n",
        "                                 initializer='random_normal',\n",
        "                                 trainable=True)\n",
        "  \n",
        "\n",
        "    def call(self, inputs):\n",
        "        \"\"\"\n",
        "        Update weights/biases of each neuron\n",
        "        ## Params\n",
        "            - inputs = inputs for neurons\n",
        "        \"\"\"\n",
        "        x = tf.matmul(inputs, self.w) + self.b\n",
        "        x = self.activation(x)\n",
        "        return x\n",
        "    \n",
        "class MyModel(tf.keras.Model):\n",
        "    \"\"\"MyModel represents a Tensorflow Model, inherits from keras.Model.\"\"\"\n",
        "    \n",
        "    \n",
        "    def __init__(self):\n",
        "        \"\"\"Constructor, calls super Constructor, initializes 2 hidden layers and an output layer.\"\"\"\n",
        "        super(MyModel, self).__init__()\n",
        "        self.hidden1 = Dense_Layer(units=5) # We only need 5 neurons/layer\n",
        "        self.hidden2 = Dense_Layer(units=5)\n",
        "        self.out = Dense_Layer(1) # Output layer uses sigmoid as well\n",
        "\n",
        "        \n",
        "    @tf.function\n",
        "    def call(self, inputs):\n",
        "        \"\"\"\n",
        "        Update weights/biases of each layer (calls call of each neuron).\n",
        "        ## Params\n",
        "            - inputs = inputs for network\n",
        "        \"\"\"\n",
        "        x = self.hidden1(inputs)\n",
        "        x = self.hidden2(x)\n",
        "        x = self.out(x)\n",
        "        return x"
      ],
      "id": "U1NaAhvmIoBZ",
      "execution_count": null,
      "outputs": []
    },
    {
      "cell_type": "markdown",
      "metadata": {
        "id": "biN7jLwxu29g"
      },
      "source": [
        "## Train step and Test\n",
        "Train step and test are largely the same as last week as well.\n",
        "We just refined the accuracy computation for the binary task."
      ],
      "id": "biN7jLwxu29g"
    },
    {
      "cell_type": "code",
      "metadata": {
        "id": "4NoNV3CLI0ol"
      },
      "source": [
        "def train_step(model, input, target, loss_function, optimizer):\n",
        "    \"\"\"\n",
        "    Function for model training\n",
        "    ## Params\n",
        "        - model = instance of MyModel class\n",
        "        - input = input for model \n",
        "        - target = targets\n",
        "        - loss_function = loss function\n",
        "        - optimizer = tensorflow optimizer\n",
        "    \"\"\"\n",
        "    with tf.GradientTape() as tape:\n",
        "        prediction = model(input)\n",
        "        loss = loss_function(target, prediction)\n",
        "        gradients = tape.gradient(loss, model.trainable_variables)\n",
        "    optimizer.apply_gradients(zip(gradients, model.trainable_variables))\n",
        "    return loss\n",
        "\n",
        "def test(model, test_data, loss_function):\n",
        "    \"\"\"\n",
        "    Function for model testing \n",
        "    ## Params\n",
        "        - model = instance of MyModel class\n",
        "        - test_data = data for testing\n",
        "        - loss_function = loss function\n",
        "    \"\"\"\n",
        "    # we use numpy array here to speed things up\n",
        "    test_accuracy_aggregator = np.empty(0)\n",
        "    test_loss_aggregator = np.empty(0)\n",
        "\n",
        "    for (input, target) in test_data:\n",
        "        prediction = model(input)\n",
        "        sample_test_loss = loss_function(target, prediction)\n",
        "        sample_test_accuracy = target == np.round(prediction,0) # accuracy computation for binary task\n",
        "        sample_test_accuracy = np.mean(sample_test_accuracy)\n",
        "        test_loss_aggregator = np.append(test_loss_aggregator, sample_test_loss.numpy())\n",
        "        test_accuracy_aggregator = np.append(test_accuracy_aggregator, np.mean(sample_test_accuracy))\n",
        "\n",
        "    test_loss = tf.reduce_mean(test_loss_aggregator)\n",
        "    test_accuracy = tf.reduce_mean(test_accuracy_aggregator)\n",
        "\n",
        "    return test_loss, test_accuracy"
      ],
      "id": "4NoNV3CLI0ol",
      "execution_count": null,
      "outputs": []
    },
    {
      "cell_type": "markdown",
      "metadata": {
        "id": "CfKN2kW9v8hp"
      },
      "source": [
        "## Binary function\n",
        "Function to make targets binary."
      ],
      "id": "CfKN2kW9v8hp"
    },
    {
      "cell_type": "code",
      "metadata": {
        "id": "d4b5aCTcVzS_"
      },
      "source": [
        "def make_binary(target, median):\n",
        "    \"\"\"Function to make targets binary\"\"\"\n",
        "    if target > median:\n",
        "        return tf.constant(1, dtype=tf.float64)\n",
        "    return tf.constant(0, dtype=tf.float64)"
      ],
      "id": "d4b5aCTcVzS_",
      "execution_count": null,
      "outputs": []
    },
    {
      "cell_type": "markdown",
      "metadata": {
        "id": "iOfZHmx9wTvd"
      },
      "source": [
        "## Preprocessing Pipeline\n",
        "Pipeline to preprocess our data before using, this includes splitting the dataset. "
      ],
      "id": "iOfZHmx9wTvd"
    },
    {
      "cell_type": "code",
      "metadata": {
        "id": "83e4825f"
      },
      "source": [
        "def preprocessing_pipeline(ds, split_fracs = (0.7,0.15,0.15), batch_size = 8, prefetch_size = tf.data.AUTOTUNE, normalize = False):\n",
        "    \"\"\"\n",
        "    Pipeline for our preprocessing steps\n",
        "    ##Params\n",
        "        -ds = dataset\n",
        "        -split_fracs = fractions in which dataset should be splitted\n",
        "        - batch_size = batch size\n",
        "        - prefetch_size = prefetch size\n",
        "        - normalize = if data should be normalized  \n",
        "    \"\"\"\n",
        "    # compute target median\n",
        "    target_median = np.median( ds.loc[ :, \"quality\" ])\n",
        "\n",
        "    # For optional normalization\n",
        "    if normalize == True:\n",
        "        max_vals = ds.max()\n",
        "        min_vals = ds.min()\n",
        "        ds.iloc[:,:-2] = ( ds.iloc[:,:-2] - ds.iloc[:,:-2].min() ) / ( ds.iloc[:,:-2].max() - ds.iloc[:,:-2].min() ) # We don't want to normalize the targets in the quality-column\n",
        "\n",
        "    # split the dataset\n",
        "    train_ds =      ds.sample(frac=split_fracs[0], replace = False, random_state=42)\n",
        "    validation_ds = ds.drop(train_ds.index).sample(frac=(split_fracs[1]/(1-split_fracs[0])), replace = False, random_state=42)\n",
        "    test_ds =       ds.drop(train_ds.index).drop(validation_ds.index)\n",
        "\n",
        "    # separate values and targets\n",
        "    train_vals, train_targets =             ( train_ds.drop(        columns=\"quality\" ).values, train_ds.loc[ :, 'quality' ].values )\n",
        "    validation_vals, validation_targets =   ( validation_ds.drop(   columns=\"quality\" ).values, validation_ds.loc[ :, 'quality' ].values )\n",
        "    test_vals, test_targets =               ( test_ds.drop(         columns=\"quality\" ).values, test_ds.loc[ :, 'quality' ].values )\n",
        "\n",
        "    # create TF datasets\n",
        "    train_ds = tf.data.Dataset.from_tensor_slices(      ( train_vals, train_targets ) )\n",
        "    validation_ds = tf.data.Dataset.from_tensor_slices( ( validation_vals, validation_targets ) )\n",
        "    test_ds = tf.data.Dataset.from_tensor_slices(       ( test_vals, test_targets ) )\n",
        "\n",
        "    # Make targets binary\n",
        "    train_ds = train_ds.map(            lambda val, target: (val, make_binary(target, target_median)) )\n",
        "    validation_ds = validation_ds.map(  lambda val, target: (val, make_binary(target, target_median)) )\n",
        "    test_ds = test_ds.map(              lambda val, target: (val, make_binary(target, target_median)) )\n",
        "\n",
        "    # Batch and Prefetch the splits\n",
        "    train_ds =      train_ds.shuffle(500).batch( batch_size ).prefetch( prefetch_size )\n",
        "    validation_ds = validation_ds.shuffle(500).batch( batch_size ).prefetch( prefetch_size )\n",
        "    test_ds =       test_ds.shuffle(500).batch( batch_size ).prefetch( prefetch_size )\n",
        "\n",
        "    return train_ds, validation_ds, test_ds"
      ],
      "id": "83e4825f",
      "execution_count": null,
      "outputs": []
    },
    {
      "cell_type": "markdown",
      "metadata": {
        "id": "2e-7LCrSwdbR"
      },
      "source": [
        "## Running our code\n",
        "Loading data, preprocessing, hyperparameters, testing and training.\n"
      ],
      "id": "2e-7LCrSwdbR"
    },
    {
      "cell_type": "code",
      "metadata": {
        "id": "4e701a08",
        "colab": {
          "base_uri": "https://localhost:8080/"
        },
        "outputId": "45589ef8-d235-49d4-ae39-9e12dbadaa7c"
      },
      "source": [
        "# Load DS\n",
        "data_set=pd.read_csv(\"https://archive.ics.uci.edu/ml/machine-learning-databases/wine-quality/winequality-red.csv\", delimiter=\";\")\n",
        "\n",
        "# Preprocess\n",
        "train_ds, validation_ds, test_ds = preprocessing_pipeline(data_set, split_fracs=(0.6,0.2,0.2), batch_size = 12, normalize=True)\n",
        "\n",
        "tf.keras.backend.clear_session()\n",
        "\n",
        "# define hyperparams\n",
        "learning_rate = tf.constant(0.001, dtype=tf.float64) # A smaller learning rate prooved to be more useful\n",
        "num_epochs = 10\n",
        "model = MyModel()\n",
        "loss_func = tf.keras.losses.BinaryCrossentropy()\n",
        "optimizer = tf.optimizers.Adam(learning_rate) # Adam yielded the most stable accuracies from all tested optimizers\n",
        "\n",
        "# arrays for later visualization\n",
        "# initial tests before training\n",
        "train_losses = np.empty(0)\n",
        "\n",
        "validation_loss, validation_acc = test(model, validation_ds, loss_func)\n",
        "validation_losses = np.array([validation_loss])\n",
        "validation_accuracies = np.array([validation_acc])\n",
        "\n",
        "test_loss, test_acc = test(model, test_ds, loss_func)\n",
        "test_losses = np.array([test_loss])\n",
        "test_accuracies = np.array([test_acc])\n",
        "\n",
        "# model performance before training\n",
        "train_loss, _ = test(model, train_ds, loss_func)\n",
        "train_losses = np.append(train_losses, train_loss)\n",
        "\n",
        "# training of our model\n",
        "for epoch in range(num_epochs):\n",
        "    print(f'Epoch {str(epoch)} starting with accuracy {test_accuracies[-1]:.8f}')\n",
        "\n",
        "    epoch_loss_agg = np.empty(0)\n",
        "    for input, target in train_ds:\n",
        "        train_loss = train_step(model, input, target, loss_func, optimizer)\n",
        "        epoch_loss_agg = np.append(epoch_loss_agg, train_loss)\n",
        "\n",
        "    train_losses = np.append(train_losses, tf.reduce_mean(epoch_loss_agg))\n",
        "\n",
        "    validation_loss, validation_acc = test(model, validation_ds, loss_func)\n",
        "    validation_losses = np.append(validation_losses, validation_loss)\n",
        "    validation_accuracies = np.append(validation_accuracies, validation_acc)\n",
        "\n",
        "    # We only inserted this in the end (to prevent overfitting on our test set)\n",
        "    test_loss, test_acc = test(model, test_ds, loss_func)\n",
        "    test_losses = np.append(test_losses, test_loss)\n",
        "    test_accuracies = np.append(test_accuracies, test_acc)"
      ],
      "id": "4e701a08",
      "execution_count": null,
      "outputs": [
        {
          "output_type": "stream",
          "name": "stdout",
          "text": [
            "Epoch 0 starting with accuracy 0.87654321\n",
            "Epoch 1 starting with accuracy 0.87191358\n",
            "Epoch 2 starting with accuracy 0.87654321\n",
            "Epoch 3 starting with accuracy 0.87500000\n",
            "Epoch 4 starting with accuracy 0.87500000\n",
            "Epoch 5 starting with accuracy 0.87654321\n",
            "Epoch 6 starting with accuracy 0.87345679\n",
            "Epoch 7 starting with accuracy 0.87500000\n",
            "Epoch 8 starting with accuracy 0.87500000\n",
            "Epoch 9 starting with accuracy 0.87345679\n"
          ]
        }
      ]
    },
    {
      "cell_type": "markdown",
      "metadata": {
        "id": "2gRaDkXswsZG"
      },
      "source": [
        "## Visualization "
      ],
      "id": "2gRaDkXswsZG"
    },
    {
      "cell_type": "code",
      "metadata": {
        "id": "BG700LPW278b",
        "colab": {
          "base_uri": "https://localhost:8080/",
          "height": 483
        },
        "outputId": "f7e88a4c-c39b-42e3-bf63-4b07972c7c36"
      },
      "source": [
        "plt.figure(figsize=(18,8))\n",
        "plt.plot(range(num_epochs+1),validation_losses,label=\"Validation Losses\")\n",
        "plt.plot(range(num_epochs+1),test_losses,label=\"Test Losses\")\n",
        "plt.plot(range(num_epochs+1),train_losses, label=\"Train losses\")\n",
        "plt.plot(range(num_epochs+1),validation_accuracies, label = \"Validation accuracy\")\n",
        "plt.plot(range(num_epochs+1),test_accuracies, label = \"Test accuracy\")\n",
        "plt.legend()\n",
        "plt.show()"
      ],
      "id": "BG700LPW278b",
      "execution_count": null,
      "outputs": [
        {
          "output_type": "display_data",
          "data": {
            "image/png": "[encoded data removed]",
            "text/plain": [
              "<Figure size 1296x576 with 1 Axes>"
            ]
          },
          "metadata": {
            "needs_background": "light"
          }
        }
      ]
    },
    {
      "cell_type": "markdown",
      "metadata": {
        "id": "-quMv78qwu9d"
      },
      "source": [
        "## Summary\n",
        "Although our model has fairly good accuracy, we could not see a significant increase in performance after a few epochs.\n",
        "As can be seen in the plot, losses gradually drop over the epochs but the accuracy stays roughly the same.\n",
        "\n",
        "We tried to improve our model with the following tweaks:\n",
        "- regularization techniques like dropout and activity regularization.\n",
        "- optimizers like SGV and Adam\n",
        "- normalization of our dataset values\n",
        "- different data splits\n",
        "- different data batches\n",
        "- different depth and width of the network\n",
        "\n",
        "Weirdly, different data splits seem to have a more significant effect on model performance than our applied optimization/regularization.\n",
        "\n",
        "Our best performing model:\n",
        "- regularizer: L1_L2\n",
        "- optimizer: Adam\n",
        "- data split: 60% train, 20% validation, 20% test\n",
        "- batch size < 50"
      ],
      "id": "-quMv78qwu9d"
    }
  ]
}
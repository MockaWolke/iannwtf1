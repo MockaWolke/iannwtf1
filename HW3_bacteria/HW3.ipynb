{
  "nbformat": 4,
  "nbformat_minor": 0,
  "metadata": {
    "colab": {
      "name": "HW3.ipynb",
      "provenance": [],
      "collapsed_sections": []
    },
    "kernelspec": {
      "display_name": "Python 3",
      "name": "python3"
    },
    "language_info": {
      "name": "python"
    },
    "widgets": {
      "application/vnd.jupyter.widget-state+json": {
        "65292a9d470740c692f0810040cf64b3": {
          "model_module": "@jupyter-widgets/controls",
          "model_name": "HBoxModel",
          "model_module_version": "1.5.0",
          "state": {
            "_view_name": "HBoxView",
            "_dom_classes": [],
            "_model_name": "HBoxModel",
            "_view_module": "@jupyter-widgets/controls",
            "_model_module_version": "1.5.0",
            "_view_count": null,
            "_view_module_version": "1.5.0",
            "box_style": "",
            "layout": "IPY_MODEL_2d103a5f84c740dd88bb3cd38016a0a9",
            "_model_module": "@jupyter-widgets/controls",
            "children": [
              "IPY_MODEL_eed1856e490c4ad5a3fa05a5058e0464",
              "IPY_MODEL_daf0d309eaad46f4a43b2dfb426257ed",
              "IPY_MODEL_3648bf574601484f93bd89d7b8c5c0c5"
            ]
          }
        },
        "2d103a5f84c740dd88bb3cd38016a0a9": {
          "model_module": "@jupyter-widgets/base",
          "model_name": "LayoutModel",
          "model_module_version": "1.2.0",
          "state": {
            "_view_name": "LayoutView",
            "grid_template_rows": null,
            "right": null,
            "justify_content": null,
            "_view_module": "@jupyter-widgets/base",
            "overflow": null,
            "_model_module_version": "1.2.0",
            "_view_count": null,
            "flex_flow": null,
            "width": null,
            "min_width": null,
            "border": null,
            "align_items": null,
            "bottom": null,
            "_model_module": "@jupyter-widgets/base",
            "top": null,
            "grid_column": null,
            "overflow_y": null,
            "overflow_x": null,
            "grid_auto_flow": null,
            "grid_area": null,
            "grid_template_columns": null,
            "flex": null,
            "_model_name": "LayoutModel",
            "justify_items": null,
            "grid_row": null,
            "max_height": null,
            "align_content": null,
            "visibility": null,
            "align_self": null,
            "height": null,
            "min_height": null,
            "padding": null,
            "grid_auto_rows": null,
            "grid_gap": null,
            "max_width": null,
            "order": null,
            "_view_module_version": "1.2.0",
            "grid_template_areas": null,
            "object_position": null,
            "object_fit": null,
            "grid_auto_columns": null,
            "margin": null,
            "display": null,
            "left": null
          }
        },
        "eed1856e490c4ad5a3fa05a5058e0464": {
          "model_module": "@jupyter-widgets/controls",
          "model_name": "HTMLModel",
          "model_module_version": "1.5.0",
          "state": {
            "_view_name": "HTMLView",
            "style": "IPY_MODEL_d28507c0cedb460197b11ca96c2d8313",
            "_dom_classes": [],
            "description": "",
            "_model_name": "HTMLModel",
            "placeholder": "​",
            "_view_module": "@jupyter-widgets/controls",
            "_model_module_version": "1.5.0",
            "value": "Dl Completed...: 100%",
            "_view_count": null,
            "_view_module_version": "1.5.0",
            "description_tooltip": null,
            "_model_module": "@jupyter-widgets/controls",
            "layout": "IPY_MODEL_ea66c53a469e4e05b359750ca4a4be6a"
          }
        },
        "daf0d309eaad46f4a43b2dfb426257ed": {
          "model_module": "@jupyter-widgets/controls",
          "model_name": "FloatProgressModel",
          "model_module_version": "1.5.0",
          "state": {
            "_view_name": "ProgressView",
            "style": "IPY_MODEL_1a24c05574e344bc901fc2fa726c8ac8",
            "_dom_classes": [],
            "description": "",
            "_model_name": "FloatProgressModel",
            "bar_style": "success",
            "max": 12,
            "_view_module": "@jupyter-widgets/controls",
            "_model_module_version": "1.5.0",
            "value": 12,
            "_view_count": null,
            "_view_module_version": "1.5.0",
            "orientation": "horizontal",
            "min": 0,
            "description_tooltip": null,
            "_model_module": "@jupyter-widgets/controls",
            "layout": "IPY_MODEL_ec54c1e1f2b4440bb3bcddad3cd92b3e"
          }
        },
        "3648bf574601484f93bd89d7b8c5c0c5": {
          "model_module": "@jupyter-widgets/controls",
          "model_name": "HTMLModel",
          "model_module_version": "1.5.0",
          "state": {
            "_view_name": "HTMLView",
            "style": "IPY_MODEL_c95cd8dfb6a047b5b3c6459bda4ebf2d",
            "_dom_classes": [],
            "description": "",
            "_model_name": "HTMLModel",
            "placeholder": "​",
            "_view_module": "@jupyter-widgets/controls",
            "_model_module_version": "1.5.0",
            "value": " 12/12 [00:05&lt;00:00,  2.64 file/s]",
            "_view_count": null,
            "_view_module_version": "1.5.0",
            "description_tooltip": null,
            "_model_module": "@jupyter-widgets/controls",
            "layout": "IPY_MODEL_440f60f8a0bd454cb7870efb3b35913f"
          }
        },
        "d28507c0cedb460197b11ca96c2d8313": {
          "model_module": "@jupyter-widgets/controls",
          "model_name": "DescriptionStyleModel",
          "model_module_version": "1.5.0",
          "state": {
            "_view_name": "StyleView",
            "_model_name": "DescriptionStyleModel",
            "description_width": "",
            "_view_module": "@jupyter-widgets/base",
            "_model_module_version": "1.5.0",
            "_view_count": null,
            "_view_module_version": "1.2.0",
            "_model_module": "@jupyter-widgets/controls"
          }
        },
        "ea66c53a469e4e05b359750ca4a4be6a": {
          "model_module": "@jupyter-widgets/base",
          "model_name": "LayoutModel",
          "model_module_version": "1.2.0",
          "state": {
            "_view_name": "LayoutView",
            "grid_template_rows": null,
            "right": null,
            "justify_content": null,
            "_view_module": "@jupyter-widgets/base",
            "overflow": null,
            "_model_module_version": "1.2.0",
            "_view_count": null,
            "flex_flow": null,
            "width": null,
            "min_width": null,
            "border": null,
            "align_items": null,
            "bottom": null,
            "_model_module": "@jupyter-widgets/base",
            "top": null,
            "grid_column": null,
            "overflow_y": null,
            "overflow_x": null,
            "grid_auto_flow": null,
            "grid_area": null,
            "grid_template_columns": null,
            "flex": null,
            "_model_name": "LayoutModel",
            "justify_items": null,
            "grid_row": null,
            "max_height": null,
            "align_content": null,
            "visibility": null,
            "align_self": null,
            "height": null,
            "min_height": null,
            "padding": null,
            "grid_auto_rows": null,
            "grid_gap": null,
            "max_width": null,
            "order": null,
            "_view_module_version": "1.2.0",
            "grid_template_areas": null,
            "object_position": null,
            "object_fit": null,
            "grid_auto_columns": null,
            "margin": null,
            "display": null,
            "left": null
          }
        },
        "1a24c05574e344bc901fc2fa726c8ac8": {
          "model_module": "@jupyter-widgets/controls",
          "model_name": "ProgressStyleModel",
          "model_module_version": "1.5.0",
          "state": {
            "_view_name": "StyleView",
            "_model_name": "ProgressStyleModel",
            "description_width": "",
            "_view_module": "@jupyter-widgets/base",
            "_model_module_version": "1.5.0",
            "_view_count": null,
            "_view_module_version": "1.2.0",
            "bar_color": null,
            "_model_module": "@jupyter-widgets/controls"
          }
        },
        "ec54c1e1f2b4440bb3bcddad3cd92b3e": {
          "model_module": "@jupyter-widgets/base",
          "model_name": "LayoutModel",
          "model_module_version": "1.2.0",
          "state": {
            "_view_name": "LayoutView",
            "grid_template_rows": null,
            "right": null,
            "justify_content": null,
            "_view_module": "@jupyter-widgets/base",
            "overflow": null,
            "_model_module_version": "1.2.0",
            "_view_count": null,
            "flex_flow": null,
            "width": null,
            "min_width": null,
            "border": null,
            "align_items": null,
            "bottom": null,
            "_model_module": "@jupyter-widgets/base",
            "top": null,
            "grid_column": null,
            "overflow_y": null,
            "overflow_x": null,
            "grid_auto_flow": null,
            "grid_area": null,
            "grid_template_columns": null,
            "flex": null,
            "_model_name": "LayoutModel",
            "justify_items": null,
            "grid_row": null,
            "max_height": null,
            "align_content": null,
            "visibility": null,
            "align_self": null,
            "height": null,
            "min_height": null,
            "padding": null,
            "grid_auto_rows": null,
            "grid_gap": null,
            "max_width": null,
            "order": null,
            "_view_module_version": "1.2.0",
            "grid_template_areas": null,
            "object_position": null,
            "object_fit": null,
            "grid_auto_columns": null,
            "margin": null,
            "display": null,
            "left": null
          }
        },
        "c95cd8dfb6a047b5b3c6459bda4ebf2d": {
          "model_module": "@jupyter-widgets/controls",
          "model_name": "DescriptionStyleModel",
          "model_module_version": "1.5.0",
          "state": {
            "_view_name": "StyleView",
            "_model_name": "DescriptionStyleModel",
            "description_width": "",
            "_view_module": "@jupyter-widgets/base",
            "_model_module_version": "1.5.0",
            "_view_count": null,
            "_view_module_version": "1.2.0",
            "_model_module": "@jupyter-widgets/controls"
          }
        },
        "440f60f8a0bd454cb7870efb3b35913f": {
          "model_module": "@jupyter-widgets/base",
          "model_name": "LayoutModel",
          "model_module_version": "1.2.0",
          "state": {
            "_view_name": "LayoutView",
            "grid_template_rows": null,
            "right": null,
            "justify_content": null,
            "_view_module": "@jupyter-widgets/base",
            "overflow": null,
            "_model_module_version": "1.2.0",
            "_view_count": null,
            "flex_flow": null,
            "width": null,
            "min_width": null,
            "border": null,
            "align_items": null,
            "bottom": null,
            "_model_module": "@jupyter-widgets/base",
            "top": null,
            "grid_column": null,
            "overflow_y": null,
            "overflow_x": null,
            "grid_auto_flow": null,
            "grid_area": null,
            "grid_template_columns": null,
            "flex": null,
            "_model_name": "LayoutModel",
            "justify_items": null,
            "grid_row": null,
            "max_height": null,
            "align_content": null,
            "visibility": null,
            "align_self": null,
            "height": null,
            "min_height": null,
            "padding": null,
            "grid_auto_rows": null,
            "grid_gap": null,
            "max_width": null,
            "order": null,
            "_view_module_version": "1.2.0",
            "grid_template_areas": null,
            "object_position": null,
            "object_fit": null,
            "grid_auto_columns": null,
            "margin": null,
            "display": null,
            "left": null
          }
        }
      }
    },
    "accelerator": "GPU"
  },
  "cells": [
    {
      "cell_type": "markdown",
      "metadata": {
        "id": "B78q13H5AF58"
      },
      "source": [
        "# Homework 3 - Bacteria Classification"
      ]
    },
    {
      "cell_type": "markdown",
      "metadata": {
        "id": "lOOrf9rjGVzz"
      },
      "source": [
        "## If you are on Google Colab"
      ]
    },
    {
      "cell_type": "markdown",
      "metadata": {
        "id": "k1830PppGRcb"
      },
      "source": [
        "1. For better performance: select 'GPU' as a hardware accelerator in your Notebook settings\n",
        "2. Navigate to the folder you want to clone our [github repository](https://github.com/MockaWolke/iannwtf1) (you can do this by running `%cd <FILEPATH>`)\n",
        "3. Execute the cell below\n",
        "4. After running this notebook you can delete the repository from your disk by navigating to your prior specified filepath `%cd /<FILEPATH>` and run `%rm -rf iannwtf1`"
      ]
    },
    {
      "cell_type": "code",
      "metadata": {
        "id": "3IZ0Tv2x-Ltp",
        "colab": {
          "base_uri": "https://localhost:8080/"
        },
        "outputId": "67187b01-7f38-4d53-a5f2-73d435f96134"
      },
      "source": [
        "!git clone https://github.com/MockaWolke/iannwtf1.git\n",
        "%cd iannwtf1/HW3_bacteria"
      ],
      "execution_count": 1,
      "outputs": [
        {
          "output_type": "stream",
          "name": "stdout",
          "text": [
            "Cloning into 'iannwtf1'...\n",
            "remote: Enumerating objects: 183, done.\u001b[K\n",
            "remote: Counting objects: 100% (183/183), done.\u001b[K\n",
            "remote: Compressing objects: 100% (141/141), done.\u001b[K\n",
            "remote: Total 183 (delta 79), reused 109 (delta 38), pack-reused 0\u001b[K\n",
            "Receiving objects: 100% (183/183), 226.66 KiB | 3.10 MiB/s, done.\n",
            "Resolving deltas: 100% (79/79), done.\n",
            "/content/iannwtf1/HW3_bacteria\n"
          ]
        }
      ]
    },
    {
      "cell_type": "markdown",
      "metadata": {
        "id": "EEwA_CRWGEGK"
      },
      "source": [
        "## Import everything we need"
      ]
    },
    {
      "cell_type": "code",
      "metadata": {
        "id": "TvlkyJHNJfkP"
      },
      "source": [
        "# import python scrips\n",
        "from layer import Dense_Layer\n",
        "from model import MyModel\n",
        "from preprocessing import onehotify, prep_data\n",
        "# import libraries\n",
        "import numpy as np\n",
        "import tensorflow as tf\n",
        "import tensorflow_datasets as tfds"
      ],
      "execution_count": 2,
      "outputs": []
    },
    {
      "cell_type": "markdown",
      "metadata": {
        "id": "xz2x1Z9qNuvV"
      },
      "source": [
        "## Now you are set up"
      ]
    },
    {
      "cell_type": "code",
      "metadata": {
        "id": "n4uKA1fVLeOh"
      },
      "source": [
        "# function for model training\n",
        "def train_step(model, input, target, loss_function, optimizer):\n",
        "    with tf.GradientTape() as tape:\n",
        "        prediction = model(input)\n",
        "        loss = loss_function(target, prediction)\n",
        "        gradients = tape.gradient(loss, model.trainable_variables)\n",
        "    optimizer.apply_gradients(zip(gradients, model.trainable_variables))\n",
        "    return loss"
      ],
      "execution_count": 3,
      "outputs": []
    },
    {
      "cell_type": "code",
      "metadata": {
        "id": "U3b7NpMsLts1"
      },
      "source": [
        "# function for model testing\n",
        "def test(model, test_data, loss_function):\n",
        "\n",
        "    test_accuracy_aggregator = np.empty(0) # we use numpy arrays to speed things up\n",
        "    test_loss_aggregator = np.empty(0)\n",
        "\n",
        "    for (input, target) in test_data:\n",
        "        prediction = model(input)\n",
        "        sample_test_loss = loss_function(target, prediction)\n",
        "        sample_test_accuracy =  np.argmax(target, axis=1) == np.argmax(prediction, axis=1)\n",
        "        sample_test_accuracy = np.mean(sample_test_accuracy)\n",
        "        test_loss_aggregator = np.append(test_loss_aggregator, sample_test_loss.numpy())\n",
        "        test_accuracy_aggregator = np.append(test_accuracy_aggregator, np.mean(sample_test_accuracy))\n",
        "\n",
        "    test_loss = tf.reduce_mean(test_loss_aggregator)\n",
        "    test_accuracy = tf.reduce_mean(test_accuracy_aggregator)\n",
        "\n",
        "    return test_loss, test_accuracy"
      ],
      "execution_count": 4,
      "outputs": []
    },
    {
      "cell_type": "code",
      "metadata": {
        "colab": {
          "base_uri": "https://localhost:8080/",
          "height": 380,
          "referenced_widgets": [
            "65292a9d470740c692f0810040cf64b3",
            "2d103a5f84c740dd88bb3cd38016a0a9",
            "eed1856e490c4ad5a3fa05a5058e0464",
            "daf0d309eaad46f4a43b2dfb426257ed",
            "3648bf574601484f93bd89d7b8c5c0c5",
            "d28507c0cedb460197b11ca96c2d8313",
            "ea66c53a469e4e05b359750ca4a4be6a",
            "1a24c05574e344bc901fc2fa726c8ac8",
            "ec54c1e1f2b4440bb3bcddad3cd92b3e",
            "c95cd8dfb6a047b5b3c6459bda4ebf2d",
            "440f60f8a0bd454cb7870efb3b35913f"
          ]
        },
        "id": "ZB_wqQaME1iD",
        "outputId": "af5ed498-0323-4a6d-fd16-7a2041ba1c68"
      },
      "source": [
        "tf.keras.backend.clear_session()\n",
        "\n",
        "# load dataset\n",
        "# we only load from the training set to avoid \"out of distribution\" classifications in the test set\n",
        "ds_train, ds_test = tfds.load('genomics_ood', split=['train[:100000]', 'train[100000:101000]'], as_supervised=True)\n",
        "\n",
        "# preprocess dataset\n",
        "ds_train, ds_test = prep_data(ds_train, ds_test)\n",
        "\n",
        "# define hyperparams\n",
        "learning_rate = tf.constant(0.1, dtype=tf.float32)\n",
        "num_epochs = 10\n",
        "model = MyModel()\n",
        "loss_func = tf.keras.losses.CategoricalCrossentropy()\n",
        "optimizer = tf.optimizers.SGD(learning_rate)\n",
        "\n",
        "# arrays for later visualization\n",
        "# we use numpy arrays in order to speed things up\n",
        "train_losses = np.empty(0)\n",
        "test_losses = np.empty(0)\n",
        "test_accuracies = np.empty(0)\n",
        "\n",
        "# initial test before training\n",
        "test_loss, test_acc = test(model, ds_test, loss_func)\n",
        "test_losses = np.append(test_losses, test_loss)\n",
        "test_accuracies = np.append(test_accuracies, test_acc)\n",
        "\n",
        "# model performance before training\n",
        "train_loss, _ = test(model, ds_train, loss_func)\n",
        "train_losses = np.append(train_losses, train_loss)\n",
        "\n",
        "# training of our model\n",
        "for epoch in range(num_epochs):\n",
        "    print(f'Epoch {str(epoch)} starting with accuracy {test_accuracies[-1]}')\n",
        "\n",
        "    epoch_loss_agg = np.empty(0)\n",
        "    for input, target in ds_train:\n",
        "        train_loss = train_step(model, input, target, loss_func, optimizer)\n",
        "        epoch_loss_agg = np.append(epoch_loss_agg, train_loss)\n",
        "\n",
        "    train_losses = np.append(train_losses, tf.reduce_mean(epoch_loss_agg))\n",
        "\n",
        "    test_loss, test_acc = test(model, ds_test, loss_func)\n",
        "    test_losses = np.append(test_losses, test_loss)\n",
        "    test_accuracies = np.append(test_accuracies, test_acc)"
      ],
      "execution_count": 5,
      "outputs": [
        {
          "output_type": "stream",
          "name": "stdout",
          "text": [
            "\u001b[1mDownloading and preparing dataset genomics_ood/0.0.1 (download: Unknown size, generated: 926.87 MiB, total: 926.87 MiB) to /root/tensorflow_datasets/genomics_ood/0.0.1...\u001b[0m\n"
          ]
        },
        {
          "output_type": "stream",
          "name": "stderr",
          "text": [
            "WARNING:absl:Dataset genomics_ood is hosted on GCS. It will automatically be downloaded to your\n",
            "local data directory. If you'd instead prefer to read directly from our public\n",
            "GCS bucket (recommended if you're running on GCP), you can instead pass\n",
            "`try_gcs=True` to `tfds.load` or set `data_dir=gs://tfds-data/datasets`.\n",
            "\n"
          ]
        },
        {
          "output_type": "display_data",
          "data": {
            "application/vnd.jupyter.widget-view+json": {
              "model_id": "65292a9d470740c692f0810040cf64b3",
              "version_minor": 0,
              "version_major": 2
            },
            "text/plain": [
              "Dl Completed...:   0%|          | 0/12 [00:00<?, ? file/s]"
            ]
          },
          "metadata": {}
        },
        {
          "output_type": "stream",
          "name": "stdout",
          "text": [
            "\n",
            "\u001b[1mDataset genomics_ood downloaded and prepared to /root/tensorflow_datasets/genomics_ood/0.0.1. Subsequent calls will reuse this data.\u001b[0m\n",
            "Epoch 0 starting with accuracy 0.095\n",
            "Epoch 1 starting with accuracy 0.14900000000000002\n",
            "Epoch 2 starting with accuracy 0.238\n",
            "Epoch 3 starting with accuracy 0.258\n",
            "Epoch 4 starting with accuracy 0.298\n",
            "Epoch 5 starting with accuracy 0.32199999999999995\n",
            "Epoch 6 starting with accuracy 0.351\n",
            "Epoch 7 starting with accuracy 0.35\n",
            "Epoch 8 starting with accuracy 0.344\n",
            "Epoch 9 starting with accuracy 0.346\n"
          ]
        }
      ]
    },
    {
      "cell_type": "code",
      "metadata": {
        "colab": {
          "base_uri": "https://localhost:8080/",
          "height": 483
        },
        "id": "9L3t_pTAvfnK",
        "outputId": "c7319b5f-f58e-41e2-88e7-21fb4991a21e"
      },
      "source": [
        "# visualisation of our model's performance\n",
        "import matplotlib.pyplot as plt\n",
        "plt.figure(figsize=(18,8))\n",
        "plt.plot(range(num_epochs+1),test_losses,label=\"Test Losses\")\n",
        "plt.plot(range(num_epochs+1),train_losses, label=\"Train losses\")\n",
        "plt.plot(range(num_epochs+1),test_accuracies, label = \"Test accuracy\")\n",
        "plt.legend()\n",
        "plt.show()"
      ],
      "execution_count": 6,
      "outputs": [
        {
          "output_type": "display_data",
          "data": {
            "image/png": "[encoded data removed]",
            "text/plain": [
              "<Figure size 1296x576 with 1 Axes>"
            ]
          },
          "metadata": {
            "needs_background": "light"
          }
        }
      ]
    },
    {
      "cell_type": "markdown",
      "metadata": {
        "id": "ePmevJ6lIeyE"
      },
      "source": [
        "Follow the creators: [Felix](https://github.com/MockaWolke) & [Louis](https://github.com/louiskhub) & [Yannik](https://github.com/Yannik101010)\n",
        "\n"
      ]
    }
  ]
}
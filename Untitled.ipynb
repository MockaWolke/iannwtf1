{
 "cells": [
  {
   "cell_type": "code",
   "execution_count": 1,
   "id": "5b53f574",
   "metadata": {},
   "outputs": [],
   "source": [
    "import numpy as np\n",
    "\n",
    "def sigmoid(x):\n",
    "    return 1/(1+np.exp(-x))\n",
    "    \n",
    "def sigmoidprime(x):\n",
    "    return np.exp(x)/((np.exp(x)+1)**2)\n",
    "\n",
    "def squared_error(x,y):\n",
    "    return (x-y)**2\n",
    "\n",
    "input_data = np.array([[1,2,1,2],[1,2,1,2]])"
   ]
  },
  {
   "cell_type": "code",
   "execution_count": 2,
   "id": "4a8c19bd",
   "metadata": {},
   "outputs": [],
   "source": [
    "class Perceptron:\n",
    "    \n",
    "    def __init__(self,input_units,learning_rate=1):\n",
    "        self.weights=np.random.uniform(-5,5,[1,input_units])\n",
    "        self.bias=np.random.uniform(-5,5)\n",
    "        self.stored_output= np.nan\n",
    "        self.alpha = learning_rate\n",
    "        \n",
    "    def forward_step(self, inputs):\n",
    "        self.stored_output = sigmoid(sum(self.weights[i]*a for i,a in enumerate(inputs))+self.bias)\n",
    "        return self.stored_output\n",
    "    \n",
    "    def update(self, delta):\n",
    "        gradient = delta * self.weights\n",
    "        self.weights = self.weights - self.aplha * gradient\n",
    "        self.bias = self.bias - self.aplha * delta"
   ]
  },
  {
   "cell_type": "code",
   "execution_count": 3,
   "id": "d935f89a",
   "metadata": {},
   "outputs": [],
   "source": [
    "class MLP:\n",
    "    def __init__(self):\n",
    "        self.layer_1 =[]\n",
    "        for i in range(0,4):\n",
    "            self.layer_1.append(Perceptron(4))\n",
    "        self.output_neuron = Perceptron(4)\n",
    "        self.outputs_layer1 = np.nan\n",
    "        self.saved_output = np.nan\n",
    "        \n",
    "    def forward_step(self,inputs):\n",
    "        self.outputs_layer1  = np.array([perceptron.forward_step(inputs) for perceptron in self.layer_1])\n",
    "        self.saved_output= self.output_neuron.forward_step(self.outputs_layer1)\n",
    "        return self.saved_output\n",
    "        \n",
    "    def backprop_step(self,solution):\n",
    "        error = squared_error(solution,self.saved_output)\n",
    "\n",
    "        delta_of_output_neuron = 2*(self.saved_output-solution)* sigmoidprime(self.output_neuron.stored_output)\n",
    "\n",
    "        self.output_neuron.update(delta_of_output_neuron)\n",
    "\n",
    "        for number, per in enumerate(self.layer_1):\n",
    "            delta = self.output_neuron.weights[number]*delta_of_output_neuron*sigmoidprime(per.stored_output)\n",
    "            per.update(delta)            "
   ]
  },
  {
   "cell_type": "code",
   "execution_count": 4,
   "id": "d3de0bcb",
   "metadata": {},
   "outputs": [
    {
     "data": {
      "text/plain": [
       "array([[ 1.13240506,  3.56307279, -2.03337349,  2.63191679]])"
      ]
     },
     "execution_count": 4,
     "metadata": {},
     "output_type": "execute_result"
    }
   ],
   "source": [
    "a = MLP()\n",
    "a.output_neuron.weights"
   ]
  },
  {
   "cell_type": "code",
   "execution_count": 7,
   "id": "56a139aa",
   "metadata": {},
   "outputs": [
    {
     "name": "stdout",
     "output_type": "stream",
     "text": [
      "0 1\n",
      "1 2\n",
      "2 1\n",
      "3 2\n"
     ]
    }
   ],
   "source": [
    "for i,a in enumerate(input_data[1]):\n",
    "    print(i,a)"
   ]
  }
 ],
 "metadata": {
  "kernelspec": {
   "display_name": "Python 3 (ipykernel)",
   "language": "python",
   "name": "python3"
  },
  "language_info": {
   "codemirror_mode": {
    "name": "ipython",
    "version": 3
   },
   "file_extension": ".py",
   "mimetype": "text/x-python",
   "name": "python",
   "nbconvert_exporter": "python",
   "pygments_lexer": "ipython3",
   "version": "3.9.7"
  }
 },
 "nbformat": 4,
 "nbformat_minor": 5
}

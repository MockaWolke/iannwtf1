{
 "cells": [
  {
   "cell_type": "code",
   "execution_count": 1,
   "id": "68a881f0",
   "metadata": {},
   "outputs": [],
   "source": [
    "import numpy as np\n",
    "import matplotlib.pyplot as plt\n",
    "\n",
    "def random_data(datatype =\"xor\"):\n",
    "    data=[[0,0],[1,0],[0,1],[1,1]]\n",
    "    if datatype==\"xor\":\n",
    "        return (np.array(data),np.array([int(a[0] ^ a[1]) for a in data]) )\n",
    "    elif datatype==\"and\":\n",
    "        return (np.array(data),np.array([int(a[0] and a[1]) for a in data]) )\n",
    "    elif datatype==\"or\":\n",
    "        return (np.array(data),np.array([int(a[0] or a[1]) for a in data]) )\n",
    "    elif datatype==\"nand\":\n",
    "        return (np.array(data),1-np.array([int(a[0] and a[1]) for a in data]))\n",
    "    elif datatype==\"nor\":\n",
    "        return (np.array(data),1-np.array([int(a[0] or a[1]) for a in data]))\n",
    "    \n",
    "    \n",
    "def sigmoid(x):\n",
    "    return 1/(1+np.exp(-x))\n",
    "    \n",
    "def sigmoidprime(x):\n",
    "    return np.exp(x)/((np.exp(x)+1)**2)\n",
    "\n",
    "def squared_error(x,y):\n",
    "    return (x-y)**2"
   ]
  },
  {
   "cell_type": "code",
   "execution_count": 2,
   "id": "5b53f574",
   "metadata": {},
   "outputs": [],
   "source": [
    "class Our_Mlp():\n",
    "    def __init__(self,number_of_h_ls=1):\n",
    "        \n",
    "        self.n_h_ls=number_of_h_ls\n",
    "        self.h_ls_values = np.zeros((4,number_of_h_ls))\n",
    "        self.h_ls_weights = np.random.normal(-5,5,(4,number_of_h_ls,4))\n",
    "        self.h_ls_weights[:,0,2:4]=np.nan # first layer has only two inputs -> set other weights to nan\n",
    "        self.h_ls_alpha =  np.ones((4,number_of_h_ls)) # we set the learning_rate to one\n",
    "        self.h_ls_biases =  np.random.normal(-5,5,(4,number_of_h_ls))\n",
    "        \n",
    "        \n",
    "        # We will store the drives of the perceptrons for the backprob\n",
    "        \n",
    "        self.h_ls_drives = np.zeros((4,number_of_h_ls))\n",
    "        \n",
    "        self.h_ls_deltas  = np.zeros((4,number_of_h_ls))\n",
    "        \n",
    "        \n",
    "        # No we define the value, weights, bias, learning rate of our output neuron\n",
    "        \n",
    "        self.o_v=0\n",
    "        self.o_w=np.random.normal(-5,5,4)\n",
    "        self.o_b=float(np.random.normal(-5,5,1))\n",
    "        self.o_alpha=1\n",
    "        self.o_delta = 0\n",
    "        self.o_drive = 0\n",
    "        \n",
    "        \n",
    "    def forward_step(self,input_data):\n",
    "        \"\"\"\n",
    "        input_data is supposed to an 1d numpy.array with shape=(2)\n",
    "        \"\"\"\n",
    "        \n",
    "        # So now we have to calculate the input for the perceptrons of the first hidden layer which get 2 inputs each\n",
    "        for y in range(0,4):\n",
    "            \n",
    "            self.h_ls_drives[y,0]=np.multiply(self.h_ls_weights[y,0,0:2],input_data).sum() + self.h_ls_biases[y,0]\n",
    "\n",
    "            self.h_ls_values[y,0]=sigmoid(self.h_ls_drives[y,0])\n",
    "            \n",
    "        # Calculate the next hidden layers\n",
    "            \n",
    "        for x in range(1,self.n_h_ls):\n",
    "            for y in range(0,4):\n",
    "                self.h_ls_drives[y,x]=np.multiply(self.h_ls_weights[y,x,:],self.h_ls_values[:,x-1]).sum() + self.h_ls_biases[y,x]\n",
    "                self.h_ls_values[y,x]=sigmoid(self.h_ls_drives[y,x])\n",
    "        \n",
    "        # Last layer to output neuron\n",
    "        self.o_drive= np.multiply(self.o_w,self.h_ls_values[:,-1]).sum() + self.o_b\n",
    "        \n",
    "        self.o_v= sigmoid(self.o_drive)\n",
    "        \n",
    "        # let's return the output\n",
    "        \n",
    "        return self.o_v\n",
    "    \n",
    "    \n",
    "    \n",
    "    def backprop_step(self,solution):\n",
    "        \n",
    "        self.o_delta = 2*(self.o_v-solution)* sigmoidprime(self.o_drive)\n",
    "        \n",
    "        # update the weitghs\n",
    "        \n",
    "        self.o_w = self.o_w - self.o_alpha* self.o_w * self.o_delta\n",
    "        \n",
    "        # update the bias\n",
    "        \n",
    "        self.o_b = self.o_b - self.o_b * self.o_alpha * self.o_delta\n",
    "        \n",
    "        # now for the neurons of the last hidden layer\n",
    "        for y in range(0,4):\n",
    "            self.h_ls_deltas[y,-1] = sigmoidprime(self.h_ls_drives[y,-1]) * self.o_w[y] * self.o_delta\n",
    "            self.h_ls_weights[y,-1,:] = self.h_ls_weights[y,-1,:] - self.h_ls_weights[y,-1,:]  * self.h_ls_alpha[y,-1] * self.h_ls_deltas[y,-1]\n",
    "            \n",
    "        # for the rest of the hidden layer\n",
    "        \n",
    "        "
   ]
  },
  {
   "cell_type": "code",
   "execution_count": 3,
   "id": "1151c4d5",
   "metadata": {},
   "outputs": [],
   "source": [
    "a = Our_Mlp()"
   ]
  },
  {
   "cell_type": "code",
   "execution_count": 4,
   "id": "b545b540-70c8-4520-93e9-4729e90e3331",
   "metadata": {},
   "outputs": [],
   "source": [
    "data = random_data()"
   ]
  },
  {
   "cell_type": "code",
   "execution_count": 5,
   "id": "ab603996-5938-473e-b256-86ec87644d79",
   "metadata": {},
   "outputs": [],
   "source": [
    "def tick(MLP,data):\n",
    "    input_values, solution = data\n",
    "    \n",
    "    assert(input_values.shape[0]==solution.size)\n",
    "    \n",
    "    accuracy_of_loss = 0.0\n",
    "    \n",
    "    for i, input_value in enumerate(input_values):\n",
    "        accuracy_of_loss+= squared_error(MLP.forward_step(input_value),solution[i])\n",
    "        MLP.backprop_step(solution[i])\n",
    "        \n",
    "    return accuracy_of_loss/4"
   ]
  },
  {
   "cell_type": "code",
   "execution_count": 6,
   "id": "774fef16-5f71-4f95-b534-37caa5b4a4d9",
   "metadata": {},
   "outputs": [],
   "source": [
    "x_axes= np.linspace(0,10000,num=1000001)"
   ]
  },
  {
   "cell_type": "code",
   "execution_count": 7,
   "id": "2410a224-962f-401b-95b6-2f215b39718e",
   "metadata": {},
   "outputs": [],
   "source": [
    "erg = np.array([tick(a,data) for i in x_axes])"
   ]
  },
  {
   "cell_type": "code",
   "execution_count": 8,
   "id": "df49a8a3-76e9-4b9f-8898-b38489068340",
   "metadata": {},
   "outputs": [
    {
     "data": {
      "text/plain": [
       "[<matplotlib.lines.Line2D at 0x7f7867f48b20>]"
      ]
     },
     "execution_count": 8,
     "metadata": {},
     "output_type": "execute_result"
    },
    {
     "data": {
      "image/png": "[encoded data removed]",
      "text/plain": [
       "<Figure size 432x288 with 1 Axes>"
      ]
     },
     "metadata": {
      "needs_background": "light"
     },
     "output_type": "display_data"
    }
   ],
   "source": [
    "fig, ax = plt.subplots()\n",
    "ax.plot(x_axes, erg) "
   ]
  }
 ],
 "metadata": {
  "kernelspec": {
   "display_name": "Python 3 (ipykernel)",
   "language": "python",
   "name": "python3"
  },
  "language_info": {
   "codemirror_mode": {
    "name": "ipython",
    "version": 3
   },
   "file_extension": ".py",
   "mimetype": "text/x-python",
   "name": "python",
   "nbconvert_exporter": "python",
   "pygments_lexer": "ipython3",
   "version": "3.9.7"
  }
 },
 "nbformat": 4,
 "nbformat_minor": 5
}

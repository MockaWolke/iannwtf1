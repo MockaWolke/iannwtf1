{
 "cells": [
  {
   "cell_type": "code",
   "execution_count": 1,
   "metadata": {},
   "outputs": [
    {
     "name": "stdout",
     "output_type": "stream",
     "text": [
      "nan [0.5624148  0.90615517]\n",
      "nan [0.47798067 2.26760743 0.98444547 0.15633276]\n",
      "nan [ 1.34601326 -0.73325049 -0.43253569 -1.11624127]\n",
      "nan [0.97586329 0.05845487]\n",
      "nan [-0.72386251 -1.24410349 -0.40886101 -0.2754553 ]\n",
      "nan [0.66870609 1.13744008 0.00971475 1.48192481]\n",
      "nan [ 0.77277836 -0.36925891]\n",
      "nan [ 0.0562762  -0.22779573 -0.47166379  1.07613071]\n",
      "nan [-1.87504607  0.54500811 -0.75759293  0.51659083]\n",
      "nan [-0.79160476 -3.60790602]\n",
      "nan [-0.79624937  0.48652135 -1.71244506  0.4981206 ]\n",
      "nan [ 0.26005969  0.51471206 -1.31962229  0.44022832]\n",
      "nan [-0.13144659  2.14765207  0.83460471 -0.10744927]\n"
     ]
    }
   ],
   "source": [
    "import numpy as np\n",
    "from perceptron import Perceptron\n",
    "from eval import sigmoidprime , sigmoid\n",
    "from mlp import MLP\n",
    "from dataset import random_data\n",
    "from training import epoch\n",
    "\n",
    "\n",
    "a = MLP(depth=3)\n",
    "\n",
    "data = random_data()\n",
    "\n",
    "for y in range(a.hidden_width):\n",
    "    for x in range(a.depth):\n",
    "        print(a.hidden_layers[y,x].delta, a.hidden_layers[y,x].weights )\n",
    "\n",
    "for neuron in a.output_layer:\n",
    "    print(neuron.delta, neuron.weights)"
   ]
  },
  {
   "cell_type": "code",
   "execution_count": 2,
   "metadata": {},
   "outputs": [
    {
     "data": {
      "text/plain": [
       "array([0.5])"
      ]
     },
     "execution_count": 2,
     "metadata": {},
     "output_type": "execute_result"
    }
   ],
   "source": [
    "epoch(a,data)"
   ]
  },
  {
   "cell_type": "code",
   "execution_count": 3,
   "metadata": {},
   "outputs": [],
   "source": [
    "erg=[]\n",
    "\n",
    "\n",
    "x_axes= np.linspace(0,10000,num=10)\n",
    "for i in range(0,len(x_axes)):\n",
    "    erg.append(epoch(a,data))\n",
    "    #for y in range(1):\n",
    "        #for x in range(1):\n",
    "            #print(a.hidden_layers[y,x].delta, a.hidden_layers[y,x].weights )\n",
    "\n",
    "    #for neuron in a.output_layer:\n",
    "        #print(neuron.delta, neuron.weights)\n"
   ]
  },
  {
   "cell_type": "code",
   "execution_count": 4,
   "metadata": {},
   "outputs": [
    {
     "data": {
      "image/png": "[encoded data removed]",
      "text/plain": [
       "<Figure size 720x288 with 1 Axes>"
      ]
     },
     "metadata": {
      "needs_background": "light"
     },
     "output_type": "display_data"
    }
   ],
   "source": [
    "import matplotlib.pyplot as plt\n",
    "fig = plt.figure(figsize=(10,4))\n",
    "\n",
    "plt.plot(x_axes,erg)\n",
    "plt.show()"
   ]
  },
  {
   "cell_type": "code",
   "execution_count": 5,
   "metadata": {},
   "outputs": [
    {
     "name": "stdout",
     "output_type": "stream",
     "text": [
      "[-2.28507348e-06] [0.55466259 0.89797563]\n",
      "[-4.28657727e-07] [0.4769617  2.26622072 0.98348445 0.15562777]\n",
      "[2.31616289e-06] [ 1.34677832 -0.73318681 -0.43200671 -1.11572751]\n",
      "[8.0137161e-07] [0.97834018 0.06099292]\n",
      "[2.22459898e-06] [-0.71377382 -1.23166506 -0.40041955 -0.2716729 ]\n",
      "[2.45107621e-05] [0.90484094 1.14921172 0.14055653 1.55245113]\n",
      "[-3.88425239e-06] [ 0.75325478 -0.38949703]\n",
      "[-4.94379326e-06] [ 0.03859906 -0.24941537 -0.48627604  1.07003597]\n",
      "[1.91586217e-05] [-1.74758035  0.55153294 -0.68591907  0.55598465]\n",
      "[-6.89923595e-09] [-0.79166958 -3.60784896]\n",
      "[1.08436825e-05] [-0.73968162  0.55542927 -1.66583659  0.51732696]\n",
      "[6.97068812e-06] [ 0.29018688  0.51630323 -1.30243381  0.45000636]\n",
      "[0.00010603] [0.116337   2.98215656 1.01402569 0.73455022]\n"
     ]
    }
   ],
   "source": [
    "for y in range(a.hidden_width):\n",
    "    for x in range(a.depth):\n",
    "        print(a.hidden_layers[y,x].delta, a.hidden_layers[y,x].weights )\n",
    "\n",
    "for neuron in a.output_layer:\n",
    "    print(neuron.delta, neuron.weights)"
   ]
  }
 ],
 "metadata": {
  "interpreter": {
   "hash": "e3a927b3b55f51e837d21658ce4627d2709cdaf0fb2055e42c1e7d4f61265edd"
  },
  "kernelspec": {
   "display_name": "Python 3 (ipykernel)",
   "language": "python",
   "name": "python3"
  },
  "language_info": {
   "codemirror_mode": {
    "name": "ipython",
    "version": 3
   },
   "file_extension": ".py",
   "mimetype": "text/x-python",
   "name": "python",
   "nbconvert_exporter": "python",
   "pygments_lexer": "ipython3",
   "version": "3.9.7"
  }
 },
 "nbformat": 4,
 "nbformat_minor": 4
}

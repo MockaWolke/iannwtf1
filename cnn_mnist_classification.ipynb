{
  "nbformat": 4,
  "nbformat_minor": 0,
  "metadata": {
    "colab": {
      "name": "CNN_FlippedClassroom.ipynb",
      "provenance": [],
      "collapsed_sections": []
    },
    "kernelspec": {
      "name": "python3",
      "display_name": "Python 3"
    },
    "language_info": {
      "name": "python"
    },
    "accelerator": "GPU"
  },
  "cells": [
    {
      "cell_type": "markdown",
      "metadata": {
        "id": "xvNDbSIsTuXI"
      },
      "source": [
        "To put everything together: \n",
        "\n",
        "1. prepare the data"
      ]
    },
    {
      "cell_type": "code",
      "metadata": {
        "id": "1ac0HIYuPd7J"
      },
      "source": [
        "import tensorflow_datasets as tfds\n",
        "import tensorflow as tf\n",
        "import numpy as np\n",
        "train_ds, test_ds = tfds.load('fashion_mnist', split=['train', 'test'], as_supervised=True)"
      ],
      "execution_count": 1,
      "outputs": []
    },
    {
      "cell_type": "code",
      "metadata": {
        "id": "-o7iPNX26fYT"
      },
      "source": [
        "def prepare_fashion_mnist_data(fashion_mnist):\n",
        "  #convert data from uint8 to float32\n",
        "  fashion_mnist = fashion_mnist.map(lambda img, target: (tf.cast(img, tf.float32), target))\n",
        "  #sloppy input normalization, just bringing image values from range [0, 255] to [-1, 1]\n",
        "  #fashion_mnist = fashion_mnist.map(lambda img, target: ((img/128.)-1., target))\n",
        "  #create one-hot targets\n",
        "  fashion_mnist = fashion_mnist.map(lambda img, target: (img, tf.one_hot(target, depth=10)))\n",
        "  #cache this progress in memory, as there is no need to redo it; it is deterministic after all\n",
        "  fashion_mnist = fashion_mnist.cache()\n",
        "  #shuffle, batch, prefetch\n",
        "  fashion_mnist = fashion_mnist.shuffle(1000)\n",
        "  fashion_mnist = fashion_mnist.batch(32)\n",
        "  fashion_mnist = fashion_mnist.prefetch(20)\n",
        "  #return preprocessed dataset\n",
        "  return fashion_mnist\n",
        "\n",
        "train_dataset = train_ds.apply(prepare_fashion_mnist_data)\n",
        "test_dataset = test_ds.apply(prepare_fashion_mnist_data)"
      ],
      "execution_count": 2,
      "outputs": []
    },
    {
      "cell_type": "markdown",
      "metadata": {
        "id": "Ody3YK7qTzkt"
      },
      "source": [
        "2. prepare the model\n",
        " - This is just like the model from the section on Layers and Models, but we increase the size of hidden layers, becausee MNIST is not as tiny and simple as logical gates"
      ]
    },
    {
      "cell_type": "code",
      "metadata": {
        "id": "K_U90ftzUHKc"
      },
      "source": [
        "class MyModel(tf.keras.Model):\n",
        "    \n",
        "    def __init__(self):\n",
        "        super(MyModel, self).__init__()\n",
        "        self.convlayer1 = tf.keras.layers.Conv2D(filters=24, kernel_size=3, strides=(1, 1), padding=\"same\", activation=\"relu\", kernel_regularizer=tf.keras.regularizers.l1_l2)\n",
        "        self.convlayer2 = tf.keras.layers.Conv2D(filters=24, kernel_size=3, strides=(1, 1), padding=\"same\", activation=\"relu\", kernel_regularizer=tf.keras.regularizers.l1_l2)\n",
        "        self.pooling = tf.keras.layers.MaxPooling2D(pool_size=2, strides=2)\n",
        "        self.convlayer3 = tf.keras.layers.Conv2D(filters=48, kernel_size=3, strides=(1, 1), padding=\"same\", activation=\"relu\")\n",
        "        self.convlayer4 = tf.keras.layers.Conv2D(filters=48, kernel_size=3, strides=(1, 1), padding=\"same\", activation=\"relu\")\n",
        "        self.global_pool = tf.keras.layers.GlobalAvgPool2D()\n",
        "        self.out = tf.keras.layers.Dense(10, activation=\"softmax\")\n",
        "\n",
        "    @tf.function\n",
        "    def call(self, inputs):\n",
        "        x = self.convlayer1(inputs)\n",
        "        x = self.convlayer2(x)\n",
        "        x = self.pooling(x)\n",
        "        x = self.convlayer3(x)\n",
        "        x = self.convlayer4(x)\n",
        "        x = self.global_pool(x)\n",
        "        x = self.out(x)\n",
        "        return x\n",
        "    "
      ],
      "execution_count": 3,
      "outputs": []
    },
    {
      "cell_type": "markdown",
      "metadata": {
        "id": "fq69pQboVwoN"
      },
      "source": [
        "3. Prepare the training loop by providing functionality for training and testing:"
      ]
    },
    {
      "cell_type": "code",
      "metadata": {
        "id": "cOyQRc0cVvqu"
      },
      "source": [
        "def train_step(model, input, target, loss_function, optimizer):\n",
        "  # loss_object and optimizer_object are instances of respective tensorflow classes\n",
        "  with tf.GradientTape() as tape:\n",
        "    prediction = model(input)\n",
        "    loss = loss_function(target, prediction)\n",
        "    gradients = tape.gradient(loss, model.trainable_variables)\n",
        "  optimizer.apply_gradients(zip(gradients, model.trainable_variables))\n",
        "  return loss\n",
        "\n",
        "def test(model, test_data, loss_function):\n",
        "  # test over complete test data\n",
        "\n",
        "  test_accuracy_aggregator = []\n",
        "  test_loss_aggregator = []\n",
        "\n",
        "  for (input, target) in test_data:\n",
        "    prediction = model(input)\n",
        "    sample_test_loss = loss_function(target, prediction)\n",
        "    sample_test_accuracy =  np.argmax(target, axis=1) == np.argmax(prediction, axis=1)\n",
        "    sample_test_accuracy = np.mean(sample_test_accuracy)\n",
        "    test_loss_aggregator.append(sample_test_loss.numpy())\n",
        "    test_accuracy_aggregator.append(np.mean(sample_test_accuracy))\n",
        "\n",
        "  test_loss = tf.reduce_mean(test_loss_aggregator)\n",
        "  test_accuracy = tf.reduce_mean(test_accuracy_aggregator)\n",
        "\n",
        "  return test_loss, test_accuracy"
      ],
      "execution_count": 4,
      "outputs": []
    },
    {
      "cell_type": "markdown",
      "metadata": {
        "id": "hsspqW4IWTTU"
      },
      "source": [
        "Put everything together:"
      ]
    },
    {
      "cell_type": "code",
      "metadata": {
        "colab": {
          "base_uri": "https://localhost:8080/"
        },
        "id": "DjsuBWtaWVt4",
        "outputId": "d252e1d0-42e1-4f2e-ab32-010a1d956b07"
      },
      "source": [
        "tf.keras.backend.clear_session()\n",
        "\n",
        "#For showcasing we only use a subset of the training and test data (generally use all of the available data!)\n",
        "train_dataset = train_dataset.take(1000)\n",
        "test_dataset = test_dataset.take(100)\n",
        "\n",
        "### Hyperparameters\n",
        "num_epochs = 10\n",
        "learning_rate = 0.001\n",
        "\n",
        "# Initialize the model.\n",
        "model = MyModel()\n",
        "# Initialize the loss: categorical cross entropy. Check out 'tf.keras.losses'.\n",
        "cross_entropy_loss = tf.keras.losses.CategoricalCrossentropy()\n",
        "# Initialize the optimizer: Adam with default parameters. Check out 'tf.keras.optimizers'\n",
        "optimizer = tf.keras.optimizers.Adam(learning_rate)\n",
        "\n",
        "# Initialize lists for later visualization.\n",
        "train_losses = []\n",
        "test_losses = []\n",
        "test_accuracies = []\n",
        "\n",
        "#testing once before we begin\n",
        "test_loss, test_accuracy = test(model, test_dataset, cross_entropy_loss)\n",
        "test_losses.append(test_loss)\n",
        "test_accuracies.append(test_accuracy)\n",
        "\n",
        "#check how model performs on train data once before we begin\n",
        "train_loss, _ = test(model, train_dataset, cross_entropy_loss)\n",
        "train_losses.append(train_loss)\n",
        "\n",
        "# We train for num_epochs epochs.\n",
        "for epoch in range(num_epochs):\n",
        "    print(f'Epoch: {str(epoch)} starting with accuracy {test_accuracies[-1]}')\n",
        "\n",
        "    #training (and checking in with training)\n",
        "    epoch_loss_agg = []\n",
        "    for input,target in train_dataset:\n",
        "        train_loss = train_step(model, input, target, cross_entropy_loss, optimizer)\n",
        "        epoch_loss_agg.append(train_loss)\n",
        "    \n",
        "    #track training loss\n",
        "    train_losses.append(tf.reduce_mean(epoch_loss_agg))\n",
        "\n",
        "    #testing, so we can track accuracy and test loss\n",
        "    test_loss, test_accuracy = test(model, test_dataset, cross_entropy_loss)\n",
        "    test_losses.append(test_loss)\n",
        "    test_accuracies.append(test_accuracy)"
      ],
      "execution_count": 5,
      "outputs": [
        {
          "output_type": "stream",
          "name": "stdout",
          "text": [
            "Epoch: 0 starting with accuracy 0.1\n",
            "Epoch: 1 starting with accuracy 0.8\n",
            "Epoch: 2 starting with accuracy 0.83375\n",
            "Epoch: 3 starting with accuracy 0.86\n",
            "Epoch: 4 starting with accuracy 0.880625\n",
            "Epoch: 5 starting with accuracy 0.8803125\n",
            "Epoch: 6 starting with accuracy 0.8725\n",
            "Epoch: 7 starting with accuracy 0.896875\n",
            "Epoch: 8 starting with accuracy 0.8975\n",
            "Epoch: 9 starting with accuracy 0.9015625\n"
          ]
        }
      ]
    },
    {
      "cell_type": "code",
      "metadata": {
        "colab": {
          "base_uri": "https://localhost:8080/",
          "height": 279
        },
        "id": "ygQT6dcVaE2o",
        "outputId": "4e2dbee6-108e-460f-aff5-47260343127e"
      },
      "source": [
        "import matplotlib.pyplot as plt\n",
        "\n",
        "# Visualize accuracy and loss for training and test data.\n",
        "plt.figure()\n",
        "line1, = plt.plot(train_losses)\n",
        "line2, = plt.plot(test_losses)\n",
        "line3, = plt.plot(test_accuracies)\n",
        "plt.xlabel(\"Training steps\")\n",
        "plt.ylabel(\"Loss/Accuracy\")\n",
        "plt.legend((line1,line2, line3),(\"training\",\"test\", \"test accuracy\"))\n",
        "plt.show()"
      ],
      "execution_count": 6,
      "outputs": [
        {
          "output_type": "display_data",
          "data": {
            "image/png": "[encoded data removed]",
            "text/plain": [
              "<Figure size 432x288 with 1 Axes>"
            ]
          },
          "metadata": {
            "needs_background": "light"
          }
        }
      ]
    }
  ]
}